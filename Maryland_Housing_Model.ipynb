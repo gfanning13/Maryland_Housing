{
 "cells": [
  {
   "cell_type": "markdown",
   "id": "93952273",
   "metadata": {},
   "source": [
    "Topic: Maryland Housing Model\n",
    "\n",
    "Personal Project\n",
    "\n",
    "Garrett Fanning"
   ]
  },
  {
   "cell_type": "markdown",
   "id": "89a98795",
   "metadata": {},
   "source": [
    "# Introduction"
   ]
  },
  {
   "cell_type": "markdown",
   "id": "983dbff4",
   "metadata": {},
   "source": [
    "# Data Description"
   ]
  },
  {
   "cell_type": "markdown",
   "id": "3ae784bf",
   "metadata": {},
   "source": [
    "## Source"
   ]
  },
  {
   "attachments": {
    "image.png": {
     "image/png": "[encoded data removed]"
    }
   },
   "cell_type": "markdown",
   "id": "cedc54f8",
   "metadata": {},
   "source": [
    "https://www.census.gov/programs-surveys/popest/data/tables.html\n",
    "![image.png](attachment:image.png)\n",
    "\n",
    "https://data.census.gov/cedsci/"
   ]
  },
  {
   "cell_type": "markdown",
   "id": "ea07b7ac",
   "metadata": {},
   "source": [
    "## Feature Breakdown"
   ]
  },
  {
   "cell_type": "markdown",
   "id": "f5384a17",
   "metadata": {},
   "source": [
    "**Housing** - Number of houses in a block\n",
    "<br> **Population** - Population in a block\n",
    "<br> **Earnings** - Median Earnings in a block\n",
    "<br> **Poverty** - Number living in poverty(based on Census income threshold) in a block\n",
    "<br> **Employment** - Number of people employed in a block\n",
    "<br> **Rooms** - Median number of rooms per house in a block\n",
    "<br> **Children** - Number of children in a block\n",
    "<br> **HouseType** - Number of houses occupied\n",
    "<br> **Age** - Median Age of a block\n",
    "<br> **Transportation** - Median length of commute to work\n",
    "<br> **HousePrice** - Median price of a home in a block\n",
    "<br> **School** - Number of schools in a block"
   ]
  },
  {
   "cell_type": "markdown",
   "id": "4e14cd4a",
   "metadata": {},
   "source": [
    "# Libraries"
   ]
  },
  {
   "cell_type": "code",
   "execution_count": 68,
   "id": "e9c6127e",
   "metadata": {},
   "outputs": [],
   "source": [
    "import pandas as pd\n",
    "import numpy as np\n",
    "import seaborn as sns\n",
    "import matplotlib\n",
    "import matplotlib.pyplot as plt"
   ]
  },
  {
   "cell_type": "markdown",
   "id": "23fef942",
   "metadata": {},
   "source": [
    "## Creating House Object"
   ]
  },
  {
   "cell_type": "code",
   "execution_count": 146,
   "id": "06df2acb",
   "metadata": {},
   "outputs": [],
   "source": [
    "class House:\n",
    "    # Initialize state of object\n",
    "    def __init__(self):\n",
    "        pass\n",
    "    \n",
    "    #Read the file in for each feature across all years available\n",
    "    def read_house(self,fileName, list_of_years):\n",
    "        all_years = pd.DataFrame()\n",
    "        a_dictionary = {}\n",
    "        for year in list_of_years:\n",
    "            filepath = fileName+'_'+year+'.csv'\n",
    "            a_dictionary[\"%s %s\" % (fileName,year)] = pd.read_csv(filepath)\n",
    "            temp = pd.DataFrame.from_dict(a_dictionary[\"%s %s\" % (fileName,year)])\n",
    "            temp['Year'] = year\n",
    "            all_years = pd.concat([all_years,temp])\n",
    "        return all_years\n",
    "    \n",
    "    def clean_house(self, original_file, feature, code):\n",
    "        #Eliminate unecessary column label row\n",
    "        new_file = original_file.loc[original_file[code].str.isnumeric() & original_file[code].notna()]\n",
    "        #Narrow to only columns needed\n",
    "        new_file = new_file[[code,\"GEO_ID\",\"NAME\",\"Year\"]]\n",
    "        #Rename Columns\n",
    "        new_file = new_file.rename(columns = {code:feature,\"GEO_ID\":\"GEO_ID\",\"NAME\":\"Name\",\"Year\":\"Year\"})\n",
    "        #Convert string column to float\n",
    "        new_file[feature] = new_file[feature].astype(float)\n",
    "        #Do not include rows/each 'Block' with 0\n",
    "        new_file = new_file.loc[(new_file[feature]>0)]\n",
    "        #Sort by increasing\n",
    "        new_file = new_file.sort_values(by = feature)\n",
    "        return new_file\n",
    "    \n",
    "    #Issues with Rooms data requires separate method be created\n",
    "    def clean_house_room(self, original_file, feature, code):\n",
    "        #Eliminate unecessary column label row\n",
    "        new_file = original_file.loc[(original_file[code].notna()) & -(original_file[code].str.contains('!') | original_file[code].str.contains('9.0+')| original_file[code].str.contains('-'))]\n",
    "        #Narrow to only columns needed\n",
    "        new_file = new_file[[code,\"GEO_ID\",\"NAME\",\"Year\"]]\n",
    "        #Rename Columns\n",
    "        new_file = new_file.rename(columns = {code:feature,\"GEO_ID\":\"GEO_ID\",\"NAME\":\"Name\",\"Year\":\"Year\"})\n",
    "        #Convert string column to float\n",
    "        new_file[feature] = new_file[feature].astype(float)\n",
    "        #Do not include rows/each 'Block' with 0\n",
    "        new_file = new_file.loc[(new_file[feature]>0)]\n",
    "        #Sort by increasing\n",
    "        new_file = new_file.sort_values(by = feature)\n",
    "        return new_file\n"
   ]
  },
  {
   "cell_type": "markdown",
   "id": "89e99ec4",
   "metadata": {},
   "source": [
    "# Read Data In"
   ]
  },
  {
   "cell_type": "markdown",
   "id": "ef86de70",
   "metadata": {},
   "source": [
    "## Maryland Housing Data"
   ]
  },
  {
   "cell_type": "code",
   "execution_count": 70,
   "id": "ea45d7f7",
   "metadata": {},
   "outputs": [
    {
     "data": {
      "text/html": [
       "<div>\n",
       "<style scoped>\n",
       "    .dataframe tbody tr th:only-of-type {\n",
       "        vertical-align: middle;\n",
       "    }\n",
       "\n",
       "    .dataframe tbody tr th {\n",
       "        vertical-align: top;\n",
       "    }\n",
       "\n",
       "    .dataframe thead th {\n",
       "        text-align: right;\n",
       "    }\n",
       "</style>\n",
       "<table border=\"1\" class=\"dataframe\">\n",
       "  <thead>\n",
       "    <tr style=\"text-align: right;\">\n",
       "      <th></th>\n",
       "      <th>Units</th>\n",
       "      <th>GEO_ID</th>\n",
       "      <th>Name</th>\n",
       "      <th>Year</th>\n",
       "    </tr>\n",
       "  </thead>\n",
       "  <tbody>\n",
       "    <tr>\n",
       "      <th>3731</th>\n",
       "      <td>3.0</td>\n",
       "      <td>1500000US245102606056</td>\n",
       "      <td>Block Group 6, Census Tract 2606.05, Baltimore...</td>\n",
       "      <td>2017</td>\n",
       "    </tr>\n",
       "    <tr>\n",
       "      <th>3731</th>\n",
       "      <td>3.0</td>\n",
       "      <td>1500000US245102606056</td>\n",
       "      <td>Block Group 6, Census Tract 2606.05, Baltimore...</td>\n",
       "      <td>2016</td>\n",
       "    </tr>\n",
       "    <tr>\n",
       "      <th>889</th>\n",
       "      <td>3.0</td>\n",
       "      <td>1500000US240054925002</td>\n",
       "      <td>Block Group 2, Census Tract 4925, Baltimore Co...</td>\n",
       "      <td>2015</td>\n",
       "    </tr>\n",
       "    <tr>\n",
       "      <th>946</th>\n",
       "      <td>3.0</td>\n",
       "      <td>1500000US240054925002</td>\n",
       "      <td>Block Group 2, Census Tract 4925, Baltimore Co...</td>\n",
       "      <td>2020</td>\n",
       "    </tr>\n",
       "    <tr>\n",
       "      <th>365</th>\n",
       "      <td>4.0</td>\n",
       "      <td>1500000US240039800001</td>\n",
       "      <td>Block Group 1, Census Tract 9800, Anne Arundel...</td>\n",
       "      <td>2014</td>\n",
       "    </tr>\n",
       "    <tr>\n",
       "      <th>...</th>\n",
       "      <td>...</td>\n",
       "      <td>...</td>\n",
       "      <td>...</td>\n",
       "      <td>...</td>\n",
       "    </tr>\n",
       "    <tr>\n",
       "      <th>3229</th>\n",
       "      <td>5341.0</td>\n",
       "      <td>1500000US240479501002</td>\n",
       "      <td>Block Group 2, Census Tract 9501, Worcester Co...</td>\n",
       "      <td>2016</td>\n",
       "    </tr>\n",
       "    <tr>\n",
       "      <th>3229</th>\n",
       "      <td>5603.0</td>\n",
       "      <td>1500000US240479501002</td>\n",
       "      <td>Block Group 2, Census Tract 9501, Worcester Co...</td>\n",
       "      <td>2017</td>\n",
       "    </tr>\n",
       "    <tr>\n",
       "      <th>3412</th>\n",
       "      <td>5627.0</td>\n",
       "      <td>1500000US240479501002</td>\n",
       "      <td>Block Group 2, Census Tract 9501, Worcester Co...</td>\n",
       "      <td>2020</td>\n",
       "    </tr>\n",
       "    <tr>\n",
       "      <th>3229</th>\n",
       "      <td>5688.0</td>\n",
       "      <td>1500000US240479501002</td>\n",
       "      <td>Block Group 2, Census Tract 9501, Worcester Co...</td>\n",
       "      <td>2018</td>\n",
       "    </tr>\n",
       "    <tr>\n",
       "      <th>3229</th>\n",
       "      <td>5717.0</td>\n",
       "      <td>1500000US240479501002</td>\n",
       "      <td>Block Group 2, Census Tract 9501, Worcester Co...</td>\n",
       "      <td>2019</td>\n",
       "    </tr>\n",
       "  </tbody>\n",
       "</table>\n",
       "<p>31277 rows × 4 columns</p>\n",
       "</div>"
      ],
      "text/plain": [
       "       Units                 GEO_ID  \\\n",
       "3731     3.0  1500000US245102606056   \n",
       "3731     3.0  1500000US245102606056   \n",
       "889      3.0  1500000US240054925002   \n",
       "946      3.0  1500000US240054925002   \n",
       "365      4.0  1500000US240039800001   \n",
       "...      ...                    ...   \n",
       "3229  5341.0  1500000US240479501002   \n",
       "3229  5603.0  1500000US240479501002   \n",
       "3412  5627.0  1500000US240479501002   \n",
       "3229  5688.0  1500000US240479501002   \n",
       "3229  5717.0  1500000US240479501002   \n",
       "\n",
       "                                                   Name  Year  \n",
       "3731  Block Group 6, Census Tract 2606.05, Baltimore...  2017  \n",
       "3731  Block Group 6, Census Tract 2606.05, Baltimore...  2016  \n",
       "889   Block Group 2, Census Tract 4925, Baltimore Co...  2015  \n",
       "946   Block Group 2, Census Tract 4925, Baltimore Co...  2020  \n",
       "365   Block Group 1, Census Tract 9800, Anne Arundel...  2014  \n",
       "...                                                 ...   ...  \n",
       "3229  Block Group 2, Census Tract 9501, Worcester Co...  2016  \n",
       "3229  Block Group 2, Census Tract 9501, Worcester Co...  2017  \n",
       "3412  Block Group 2, Census Tract 9501, Worcester Co...  2020  \n",
       "3229  Block Group 2, Census Tract 9501, Worcester Co...  2018  \n",
       "3229  Block Group 2, Census Tract 9501, Worcester Co...  2019  \n",
       "\n",
       "[31277 rows x 4 columns]"
      ]
     },
     "execution_count": 70,
     "metadata": {},
     "output_type": "execute_result"
    }
   ],
   "source": [
    "#first part of data source file name\n",
    "fileName = 'Maryland_Housing'\n",
    "#second part of data source file name. Loop gathers data from each year\n",
    "list_of_years = ['2013','2014','2015','2016','2017','2018','2019','2020']\n",
    "\n",
    "H = House()\n",
    "#run read_house method in House object\n",
    "Maryland_Housing_Original = H.read_house(fileName , list_of_years)\n",
    "\n",
    "#specific feature being used from source file\n",
    "feature = 'Units'\n",
    "#code of feature before being renamed\n",
    "code = 'B25001_001E'\n",
    "#run clean_house method in House object\n",
    "Maryland_Housing = H.clean_house(Maryland_Housing_Original, feature, code)\n",
    "Maryland_Housing"
   ]
  },
  {
   "cell_type": "markdown",
   "id": "1633a954",
   "metadata": {},
   "source": [
    "## Maryland Population Data"
   ]
  },
  {
   "cell_type": "code",
   "execution_count": 71,
   "id": "7a3a806a",
   "metadata": {},
   "outputs": [
    {
     "data": {
      "text/html": [
       "<div>\n",
       "<style scoped>\n",
       "    .dataframe tbody tr th:only-of-type {\n",
       "        vertical-align: middle;\n",
       "    }\n",
       "\n",
       "    .dataframe tbody tr th {\n",
       "        vertical-align: top;\n",
       "    }\n",
       "\n",
       "    .dataframe thead th {\n",
       "        text-align: right;\n",
       "    }\n",
       "</style>\n",
       "<table border=\"1\" class=\"dataframe\">\n",
       "  <thead>\n",
       "    <tr style=\"text-align: right;\">\n",
       "      <th></th>\n",
       "      <th>Population</th>\n",
       "      <th>GEO_ID</th>\n",
       "      <th>Name</th>\n",
       "      <th>Year</th>\n",
       "    </tr>\n",
       "  </thead>\n",
       "  <tbody>\n",
       "    <tr>\n",
       "      <th>3731</th>\n",
       "      <td>3.0</td>\n",
       "      <td>1500000US245102606056</td>\n",
       "      <td>Block Group 6, Census Tract 2606.05, Baltimore...</td>\n",
       "      <td>2017</td>\n",
       "    </tr>\n",
       "    <tr>\n",
       "      <th>3731</th>\n",
       "      <td>3.0</td>\n",
       "      <td>1500000US245102606056</td>\n",
       "      <td>Block Group 6, Census Tract 2606.05, Baltimore...</td>\n",
       "      <td>2016</td>\n",
       "    </tr>\n",
       "    <tr>\n",
       "      <th>3731</th>\n",
       "      <td>4.0</td>\n",
       "      <td>1500000US245102606056</td>\n",
       "      <td>Block Group 6, Census Tract 2606.05, Baltimore...</td>\n",
       "      <td>2015</td>\n",
       "    </tr>\n",
       "    <tr>\n",
       "      <th>3717</th>\n",
       "      <td>5.0</td>\n",
       "      <td>1500000US245102604041</td>\n",
       "      <td>Block Group 1, Census Tract 2604.04, Baltimore...</td>\n",
       "      <td>2015</td>\n",
       "    </tr>\n",
       "    <tr>\n",
       "      <th>3717</th>\n",
       "      <td>5.0</td>\n",
       "      <td>1500000US245102604041</td>\n",
       "      <td>Block Group 1, Census Tract 2604.04, Baltimore...</td>\n",
       "      <td>2016</td>\n",
       "    </tr>\n",
       "    <tr>\n",
       "      <th>...</th>\n",
       "      <td>...</td>\n",
       "      <td>...</td>\n",
       "      <td>...</td>\n",
       "      <td>...</td>\n",
       "    </tr>\n",
       "    <tr>\n",
       "      <th>1174</th>\n",
       "      <td>8211.0</td>\n",
       "      <td>1500000US240178509041</td>\n",
       "      <td>Block Group 1, Census Tract 8509.04, Charles C...</td>\n",
       "      <td>2018</td>\n",
       "    </tr>\n",
       "    <tr>\n",
       "      <th>1805</th>\n",
       "      <td>8236.0</td>\n",
       "      <td>1500000US240317002051</td>\n",
       "      <td>Block Group 1, Census Tract 7002.05, Montgomer...</td>\n",
       "      <td>2018</td>\n",
       "    </tr>\n",
       "    <tr>\n",
       "      <th>1174</th>\n",
       "      <td>8739.0</td>\n",
       "      <td>1500000US240178509041</td>\n",
       "      <td>Block Group 1, Census Tract 8509.04, Charles C...</td>\n",
       "      <td>2019</td>\n",
       "    </tr>\n",
       "    <tr>\n",
       "      <th>1805</th>\n",
       "      <td>8987.0</td>\n",
       "      <td>1500000US240317002051</td>\n",
       "      <td>Block Group 1, Census Tract 7002.05, Montgomer...</td>\n",
       "      <td>2019</td>\n",
       "    </tr>\n",
       "    <tr>\n",
       "      <th>3082</th>\n",
       "      <td>13709.0</td>\n",
       "      <td>1500000US240339800001</td>\n",
       "      <td>Block Group 1, Census Tract 9800, Prince Georg...</td>\n",
       "      <td>2020</td>\n",
       "    </tr>\n",
       "  </tbody>\n",
       "</table>\n",
       "<p>31353 rows × 4 columns</p>\n",
       "</div>"
      ],
      "text/plain": [
       "      Population                 GEO_ID  \\\n",
       "3731         3.0  1500000US245102606056   \n",
       "3731         3.0  1500000US245102606056   \n",
       "3731         4.0  1500000US245102606056   \n",
       "3717         5.0  1500000US245102604041   \n",
       "3717         5.0  1500000US245102604041   \n",
       "...          ...                    ...   \n",
       "1174      8211.0  1500000US240178509041   \n",
       "1805      8236.0  1500000US240317002051   \n",
       "1174      8739.0  1500000US240178509041   \n",
       "1805      8987.0  1500000US240317002051   \n",
       "3082     13709.0  1500000US240339800001   \n",
       "\n",
       "                                                   Name  Year  \n",
       "3731  Block Group 6, Census Tract 2606.05, Baltimore...  2017  \n",
       "3731  Block Group 6, Census Tract 2606.05, Baltimore...  2016  \n",
       "3731  Block Group 6, Census Tract 2606.05, Baltimore...  2015  \n",
       "3717  Block Group 1, Census Tract 2604.04, Baltimore...  2015  \n",
       "3717  Block Group 1, Census Tract 2604.04, Baltimore...  2016  \n",
       "...                                                 ...   ...  \n",
       "1174  Block Group 1, Census Tract 8509.04, Charles C...  2018  \n",
       "1805  Block Group 1, Census Tract 7002.05, Montgomer...  2018  \n",
       "1174  Block Group 1, Census Tract 8509.04, Charles C...  2019  \n",
       "1805  Block Group 1, Census Tract 7002.05, Montgomer...  2019  \n",
       "3082  Block Group 1, Census Tract 9800, Prince Georg...  2020  \n",
       "\n",
       "[31353 rows x 4 columns]"
      ]
     },
     "execution_count": 71,
     "metadata": {},
     "output_type": "execute_result"
    }
   ],
   "source": [
    "#first part of data source file name\n",
    "fileName = 'Maryland_Population'\n",
    "#second part of data source file name. Loop gathers data from each year\n",
    "list_of_years = ['2013','2014','2015','2016','2017','2018','2019','2020']\n",
    "\n",
    "H = House()\n",
    "#run read_house method in House object\n",
    "Maryland_Population_Original = H.read_house(fileName , list_of_years)\n",
    "\n",
    "#specific feature being used from source file\n",
    "feature = 'Population'\n",
    "#code of feature before being renamed\n",
    "code = 'B01003_001E'\n",
    "#run clean_house method in House object\n",
    "Maryland_Population = H.clean_house(Maryland_Population_Original, feature, code)\n",
    "Maryland_Population"
   ]
  },
  {
   "cell_type": "markdown",
   "id": "0940d1a1",
   "metadata": {},
   "source": [
    "## Maryland Earnings Data"
   ]
  },
  {
   "cell_type": "code",
   "execution_count": 72,
   "id": "e67566e9",
   "metadata": {},
   "outputs": [
    {
     "data": {
      "text/html": [
       "<div>\n",
       "<style scoped>\n",
       "    .dataframe tbody tr th:only-of-type {\n",
       "        vertical-align: middle;\n",
       "    }\n",
       "\n",
       "    .dataframe tbody tr th {\n",
       "        vertical-align: top;\n",
       "    }\n",
       "\n",
       "    .dataframe thead th {\n",
       "        text-align: right;\n",
       "    }\n",
       "</style>\n",
       "<table border=\"1\" class=\"dataframe\">\n",
       "  <thead>\n",
       "    <tr style=\"text-align: right;\">\n",
       "      <th></th>\n",
       "      <th>Earnings</th>\n",
       "      <th>GEO_ID</th>\n",
       "      <th>Name</th>\n",
       "      <th>Year</th>\n",
       "    </tr>\n",
       "  </thead>\n",
       "  <tbody>\n",
       "    <tr>\n",
       "      <th>2904</th>\n",
       "      <td>2541.0</td>\n",
       "      <td>1500000US240338072002</td>\n",
       "      <td>Block Group 2, Census Tract 8072, Prince Georg...</td>\n",
       "      <td>2017</td>\n",
       "    </tr>\n",
       "    <tr>\n",
       "      <th>1398</th>\n",
       "      <td>2730.0</td>\n",
       "      <td>1500000US240217668003</td>\n",
       "      <td>Block Group 3, Census Tract 7668, Frederick Co...</td>\n",
       "      <td>2018</td>\n",
       "    </tr>\n",
       "    <tr>\n",
       "      <th>1015</th>\n",
       "      <td>2834.0</td>\n",
       "      <td>1500000US240135075003</td>\n",
       "      <td>Block Group 3, Census Tract 5075, Carroll Coun...</td>\n",
       "      <td>2018</td>\n",
       "    </tr>\n",
       "    <tr>\n",
       "      <th>1398</th>\n",
       "      <td>2903.0</td>\n",
       "      <td>1500000US240217668003</td>\n",
       "      <td>Block Group 3, Census Tract 7668, Frederick Co...</td>\n",
       "      <td>2017</td>\n",
       "    </tr>\n",
       "    <tr>\n",
       "      <th>1782</th>\n",
       "      <td>2908.0</td>\n",
       "      <td>1500000US240299503003</td>\n",
       "      <td>Block Group 3, Census Tract 9503, Kent County,...</td>\n",
       "      <td>2017</td>\n",
       "    </tr>\n",
       "    <tr>\n",
       "      <th>...</th>\n",
       "      <td>...</td>\n",
       "      <td>...</td>\n",
       "      <td>...</td>\n",
       "      <td>...</td>\n",
       "    </tr>\n",
       "    <tr>\n",
       "      <th>3989</th>\n",
       "      <td>161000.0</td>\n",
       "      <td>1500000US245102712004</td>\n",
       "      <td>Block Group 4, Census Tract 2712, Baltimore ci...</td>\n",
       "      <td>2020</td>\n",
       "    </tr>\n",
       "    <tr>\n",
       "      <th>3835</th>\n",
       "      <td>165179.0</td>\n",
       "      <td>1500000US245102712004</td>\n",
       "      <td>Block Group 4, Census Tract 2712, Baltimore ci...</td>\n",
       "      <td>2019</td>\n",
       "    </tr>\n",
       "    <tr>\n",
       "      <th>2496</th>\n",
       "      <td>168281.0</td>\n",
       "      <td>1500000US240317055022</td>\n",
       "      <td>Block Group 2, Census Tract 7055.02, Montgomer...</td>\n",
       "      <td>2020</td>\n",
       "    </tr>\n",
       "    <tr>\n",
       "      <th>2330</th>\n",
       "      <td>172500.0</td>\n",
       "      <td>1500000US240317047004</td>\n",
       "      <td>Block Group 4, Census Tract 7047, Montgomery C...</td>\n",
       "      <td>2018</td>\n",
       "    </tr>\n",
       "    <tr>\n",
       "      <th>3835</th>\n",
       "      <td>186773.0</td>\n",
       "      <td>1500000US245102712004</td>\n",
       "      <td>Block Group 4, Census Tract 2712, Baltimore ci...</td>\n",
       "      <td>2018</td>\n",
       "    </tr>\n",
       "  </tbody>\n",
       "</table>\n",
       "<p>15216 rows × 4 columns</p>\n",
       "</div>"
      ],
      "text/plain": [
       "      Earnings                 GEO_ID  \\\n",
       "2904    2541.0  1500000US240338072002   \n",
       "1398    2730.0  1500000US240217668003   \n",
       "1015    2834.0  1500000US240135075003   \n",
       "1398    2903.0  1500000US240217668003   \n",
       "1782    2908.0  1500000US240299503003   \n",
       "...        ...                    ...   \n",
       "3989  161000.0  1500000US245102712004   \n",
       "3835  165179.0  1500000US245102712004   \n",
       "2496  168281.0  1500000US240317055022   \n",
       "2330  172500.0  1500000US240317047004   \n",
       "3835  186773.0  1500000US245102712004   \n",
       "\n",
       "                                                   Name  Year  \n",
       "2904  Block Group 2, Census Tract 8072, Prince Georg...  2017  \n",
       "1398  Block Group 3, Census Tract 7668, Frederick Co...  2018  \n",
       "1015  Block Group 3, Census Tract 5075, Carroll Coun...  2018  \n",
       "1398  Block Group 3, Census Tract 7668, Frederick Co...  2017  \n",
       "1782  Block Group 3, Census Tract 9503, Kent County,...  2017  \n",
       "...                                                 ...   ...  \n",
       "3989  Block Group 4, Census Tract 2712, Baltimore ci...  2020  \n",
       "3835  Block Group 4, Census Tract 2712, Baltimore ci...  2019  \n",
       "2496  Block Group 2, Census Tract 7055.02, Montgomer...  2020  \n",
       "2330  Block Group 4, Census Tract 7047, Montgomery C...  2018  \n",
       "3835  Block Group 4, Census Tract 2712, Baltimore ci...  2018  \n",
       "\n",
       "[15216 rows x 4 columns]"
      ]
     },
     "execution_count": 72,
     "metadata": {},
     "output_type": "execute_result"
    }
   ],
   "source": [
    "#first part of data source file name\n",
    "fileName = 'Maryland_Earnings'\n",
    "#second part of data source file name. Loop gathers data from each year\n",
    "list_of_years = ['2017','2018','2019','2020']\n",
    "\n",
    "H = House()\n",
    "#run read_house method in House object\n",
    "Maryland_Earnings_Original = H.read_house(fileName , list_of_years)\n",
    "\n",
    "#specific feature being used from source file\n",
    "feature = 'Earnings'\n",
    "#code of feature before being renamed\n",
    "code = 'B20017_001E'\n",
    "#run clean_house method in House object\n",
    "Maryland_Earnings = H.clean_house(Maryland_Earnings_Original, feature, code)\n",
    "Maryland_Earnings"
   ]
  },
  {
   "cell_type": "markdown",
   "id": "dc2504e4",
   "metadata": {},
   "source": [
    "## Maryland Poverty Data"
   ]
  },
  {
   "cell_type": "code",
   "execution_count": 73,
   "id": "0edccf91",
   "metadata": {},
   "outputs": [
    {
     "data": {
      "text/html": [
       "<div>\n",
       "<style scoped>\n",
       "    .dataframe tbody tr th:only-of-type {\n",
       "        vertical-align: middle;\n",
       "    }\n",
       "\n",
       "    .dataframe tbody tr th {\n",
       "        vertical-align: top;\n",
       "    }\n",
       "\n",
       "    .dataframe thead th {\n",
       "        text-align: right;\n",
       "    }\n",
       "</style>\n",
       "<table border=\"1\" class=\"dataframe\">\n",
       "  <thead>\n",
       "    <tr style=\"text-align: right;\">\n",
       "      <th></th>\n",
       "      <th>Poverty</th>\n",
       "      <th>GEO_ID</th>\n",
       "      <th>Name</th>\n",
       "      <th>Year</th>\n",
       "    </tr>\n",
       "  </thead>\n",
       "  <tbody>\n",
       "    <tr>\n",
       "      <th>1912</th>\n",
       "      <td>3.0</td>\n",
       "      <td>1500000US240317007232</td>\n",
       "      <td>Block Group 2, Census Tract 7007.23, Montgomer...</td>\n",
       "      <td>2013</td>\n",
       "    </tr>\n",
       "    <tr>\n",
       "      <th>3731</th>\n",
       "      <td>3.0</td>\n",
       "      <td>1500000US245102606056</td>\n",
       "      <td>Block Group 6, Census Tract 2606.05, Baltimore...</td>\n",
       "      <td>2017</td>\n",
       "    </tr>\n",
       "    <tr>\n",
       "      <th>3731</th>\n",
       "      <td>3.0</td>\n",
       "      <td>1500000US245102606056</td>\n",
       "      <td>Block Group 6, Census Tract 2606.05, Baltimore...</td>\n",
       "      <td>2016</td>\n",
       "    </tr>\n",
       "    <tr>\n",
       "      <th>3716</th>\n",
       "      <td>4.0</td>\n",
       "      <td>1500000US245102604032</td>\n",
       "      <td>Block Group 2, Census Tract 2604.03, Baltimore...</td>\n",
       "      <td>2019</td>\n",
       "    </tr>\n",
       "    <tr>\n",
       "      <th>3731</th>\n",
       "      <td>4.0</td>\n",
       "      <td>1500000US245102606056</td>\n",
       "      <td>Block Group 6, Census Tract 2606.05, Baltimore...</td>\n",
       "      <td>2014</td>\n",
       "    </tr>\n",
       "    <tr>\n",
       "      <th>...</th>\n",
       "      <td>...</td>\n",
       "      <td>...</td>\n",
       "      <td>...</td>\n",
       "      <td>...</td>\n",
       "    </tr>\n",
       "    <tr>\n",
       "      <th>1174</th>\n",
       "      <td>5294.0</td>\n",
       "      <td>1500000US240178509041</td>\n",
       "      <td>Block Group 1, Census Tract 8509.04, Charles C...</td>\n",
       "      <td>2019</td>\n",
       "    </tr>\n",
       "    <tr>\n",
       "      <th>258</th>\n",
       "      <td>5324.0</td>\n",
       "      <td>1500000US240037401022</td>\n",
       "      <td>Block Group 2, Census Tract 7401.02, Anne Arun...</td>\n",
       "      <td>2019</td>\n",
       "    </tr>\n",
       "    <tr>\n",
       "      <th>258</th>\n",
       "      <td>5448.0</td>\n",
       "      <td>1500000US240037401022</td>\n",
       "      <td>Block Group 2, Census Tract 7401.02, Anne Arun...</td>\n",
       "      <td>2018</td>\n",
       "    </tr>\n",
       "    <tr>\n",
       "      <th>258</th>\n",
       "      <td>5461.0</td>\n",
       "      <td>1500000US240037401022</td>\n",
       "      <td>Block Group 2, Census Tract 7401.02, Anne Arun...</td>\n",
       "      <td>2017</td>\n",
       "    </tr>\n",
       "    <tr>\n",
       "      <th>152</th>\n",
       "      <td>5621.0</td>\n",
       "      <td>1500000US240037301003</td>\n",
       "      <td>Block Group 3, Census Tract 7301, Anne Arundel...</td>\n",
       "      <td>2019</td>\n",
       "    </tr>\n",
       "  </tbody>\n",
       "</table>\n",
       "<p>31259 rows × 4 columns</p>\n",
       "</div>"
      ],
      "text/plain": [
       "      Poverty                 GEO_ID  \\\n",
       "1912      3.0  1500000US240317007232   \n",
       "3731      3.0  1500000US245102606056   \n",
       "3731      3.0  1500000US245102606056   \n",
       "3716      4.0  1500000US245102604032   \n",
       "3731      4.0  1500000US245102606056   \n",
       "...       ...                    ...   \n",
       "1174   5294.0  1500000US240178509041   \n",
       "258    5324.0  1500000US240037401022   \n",
       "258    5448.0  1500000US240037401022   \n",
       "258    5461.0  1500000US240037401022   \n",
       "152    5621.0  1500000US240037301003   \n",
       "\n",
       "                                                   Name  Year  \n",
       "1912  Block Group 2, Census Tract 7007.23, Montgomer...  2013  \n",
       "3731  Block Group 6, Census Tract 2606.05, Baltimore...  2017  \n",
       "3731  Block Group 6, Census Tract 2606.05, Baltimore...  2016  \n",
       "3716  Block Group 2, Census Tract 2604.03, Baltimore...  2019  \n",
       "3731  Block Group 6, Census Tract 2606.05, Baltimore...  2014  \n",
       "...                                                 ...   ...  \n",
       "1174  Block Group 1, Census Tract 8509.04, Charles C...  2019  \n",
       "258   Block Group 2, Census Tract 7401.02, Anne Arun...  2019  \n",
       "258   Block Group 2, Census Tract 7401.02, Anne Arun...  2018  \n",
       "258   Block Group 2, Census Tract 7401.02, Anne Arun...  2017  \n",
       "152   Block Group 3, Census Tract 7301, Anne Arundel...  2019  \n",
       "\n",
       "[31259 rows x 4 columns]"
      ]
     },
     "execution_count": 73,
     "metadata": {},
     "output_type": "execute_result"
    }
   ],
   "source": [
    "#first part of data source file name\n",
    "fileName = 'Maryland_Poverty'\n",
    "#second part of data source file name. Loop gathers data from each year\n",
    "list_of_years = ['2013','2014','2015','2016','2017','2018','2019','2020']\n",
    "\n",
    "H = House()\n",
    "#run read_house method in House object\n",
    "Maryland_Poverty_Original = H.read_house(fileName , list_of_years)\n",
    "\n",
    "#specific feature being used from source file\n",
    "feature = 'Poverty'\n",
    "#code of feature before being renamed\n",
    "code = 'B23024_001E'\n",
    "#run clean_house method in House object\n",
    "Maryland_Poverty = H.clean_house(Maryland_Poverty_Original, feature, code)\n",
    "Maryland_Poverty"
   ]
  },
  {
   "cell_type": "markdown",
   "id": "193a3a2b",
   "metadata": {},
   "source": [
    "## Maryland Employment Data"
   ]
  },
  {
   "cell_type": "code",
   "execution_count": 74,
   "id": "5dd95ffe",
   "metadata": {},
   "outputs": [
    {
     "data": {
      "text/html": [
       "<div>\n",
       "<style scoped>\n",
       "    .dataframe tbody tr th:only-of-type {\n",
       "        vertical-align: middle;\n",
       "    }\n",
       "\n",
       "    .dataframe tbody tr th {\n",
       "        vertical-align: top;\n",
       "    }\n",
       "\n",
       "    .dataframe thead th {\n",
       "        text-align: right;\n",
       "    }\n",
       "</style>\n",
       "<table border=\"1\" class=\"dataframe\">\n",
       "  <thead>\n",
       "    <tr style=\"text-align: right;\">\n",
       "      <th></th>\n",
       "      <th>Employment</th>\n",
       "      <th>GEO_ID</th>\n",
       "      <th>Name</th>\n",
       "      <th>Year</th>\n",
       "    </tr>\n",
       "  </thead>\n",
       "  <tbody>\n",
       "    <tr>\n",
       "      <th>3731</th>\n",
       "      <td>3.0</td>\n",
       "      <td>1500000US245102606056</td>\n",
       "      <td>Block Group 6, Census Tract 2606.05, Baltimore...</td>\n",
       "      <td>2016</td>\n",
       "    </tr>\n",
       "    <tr>\n",
       "      <th>3731</th>\n",
       "      <td>3.0</td>\n",
       "      <td>1500000US245102606056</td>\n",
       "      <td>Block Group 6, Census Tract 2606.05, Baltimore...</td>\n",
       "      <td>2017</td>\n",
       "    </tr>\n",
       "    <tr>\n",
       "      <th>3731</th>\n",
       "      <td>4.0</td>\n",
       "      <td>1500000US245102606056</td>\n",
       "      <td>Block Group 6, Census Tract 2606.05, Baltimore...</td>\n",
       "      <td>2015</td>\n",
       "    </tr>\n",
       "    <tr>\n",
       "      <th>3717</th>\n",
       "      <td>5.0</td>\n",
       "      <td>1500000US245102604041</td>\n",
       "      <td>Block Group 1, Census Tract 2604.04, Baltimore...</td>\n",
       "      <td>2013</td>\n",
       "    </tr>\n",
       "    <tr>\n",
       "      <th>3717</th>\n",
       "      <td>5.0</td>\n",
       "      <td>1500000US245102604041</td>\n",
       "      <td>Block Group 1, Census Tract 2604.04, Baltimore...</td>\n",
       "      <td>2016</td>\n",
       "    </tr>\n",
       "    <tr>\n",
       "      <th>...</th>\n",
       "      <td>...</td>\n",
       "      <td>...</td>\n",
       "      <td>...</td>\n",
       "      <td>...</td>\n",
       "    </tr>\n",
       "    <tr>\n",
       "      <th>152</th>\n",
       "      <td>6280.0</td>\n",
       "      <td>1500000US240037301003</td>\n",
       "      <td>Block Group 3, Census Tract 7301, Anne Arundel...</td>\n",
       "      <td>2019</td>\n",
       "    </tr>\n",
       "    <tr>\n",
       "      <th>258</th>\n",
       "      <td>6281.0</td>\n",
       "      <td>1500000US240037401022</td>\n",
       "      <td>Block Group 2, Census Tract 7401.02, Anne Arun...</td>\n",
       "      <td>2018</td>\n",
       "    </tr>\n",
       "    <tr>\n",
       "      <th>1174</th>\n",
       "      <td>6462.0</td>\n",
       "      <td>1500000US240178509041</td>\n",
       "      <td>Block Group 1, Census Tract 8509.04, Charles C...</td>\n",
       "      <td>2019</td>\n",
       "    </tr>\n",
       "    <tr>\n",
       "      <th>3297</th>\n",
       "      <td>6484.0</td>\n",
       "      <td>1500000US240430110001</td>\n",
       "      <td>Block Group 1, Census Tract 110, Washington Co...</td>\n",
       "      <td>2020</td>\n",
       "    </tr>\n",
       "    <tr>\n",
       "      <th>3082</th>\n",
       "      <td>13659.0</td>\n",
       "      <td>1500000US240339800001</td>\n",
       "      <td>Block Group 1, Census Tract 9800, Prince Georg...</td>\n",
       "      <td>2020</td>\n",
       "    </tr>\n",
       "  </tbody>\n",
       "</table>\n",
       "<p>31353 rows × 4 columns</p>\n",
       "</div>"
      ],
      "text/plain": [
       "      Employment                 GEO_ID  \\\n",
       "3731         3.0  1500000US245102606056   \n",
       "3731         3.0  1500000US245102606056   \n",
       "3731         4.0  1500000US245102606056   \n",
       "3717         5.0  1500000US245102604041   \n",
       "3717         5.0  1500000US245102604041   \n",
       "...          ...                    ...   \n",
       "152       6280.0  1500000US240037301003   \n",
       "258       6281.0  1500000US240037401022   \n",
       "1174      6462.0  1500000US240178509041   \n",
       "3297      6484.0  1500000US240430110001   \n",
       "3082     13659.0  1500000US240339800001   \n",
       "\n",
       "                                                   Name  Year  \n",
       "3731  Block Group 6, Census Tract 2606.05, Baltimore...  2016  \n",
       "3731  Block Group 6, Census Tract 2606.05, Baltimore...  2017  \n",
       "3731  Block Group 6, Census Tract 2606.05, Baltimore...  2015  \n",
       "3717  Block Group 1, Census Tract 2604.04, Baltimore...  2013  \n",
       "3717  Block Group 1, Census Tract 2604.04, Baltimore...  2016  \n",
       "...                                                 ...   ...  \n",
       "152   Block Group 3, Census Tract 7301, Anne Arundel...  2019  \n",
       "258   Block Group 2, Census Tract 7401.02, Anne Arun...  2018  \n",
       "1174  Block Group 1, Census Tract 8509.04, Charles C...  2019  \n",
       "3297  Block Group 1, Census Tract 110, Washington Co...  2020  \n",
       "3082  Block Group 1, Census Tract 9800, Prince Georg...  2020  \n",
       "\n",
       "[31353 rows x 4 columns]"
      ]
     },
     "execution_count": 74,
     "metadata": {},
     "output_type": "execute_result"
    }
   ],
   "source": [
    "#first part of data source file name\n",
    "fileName = 'Maryland_Employment'\n",
    "#second part of data source file name. Loop gathers data from each year\n",
    "list_of_years = ['2013','2014','2015','2016','2017','2018','2019','2020']\n",
    "\n",
    "H = House()\n",
    "#run read_house method in House object\n",
    "Maryland_Employment_Original = H.read_house(fileName , list_of_years)\n",
    "\n",
    "#specific feature being used from source file\n",
    "feature = 'Employment'\n",
    "#code of feature before being renamed\n",
    "code = 'B23025_001E'\n",
    "#run clean_house method in House object\n",
    "Maryland_Employment = H.clean_house(Maryland_Employment_Original, feature, code)\n",
    "Maryland_Employment"
   ]
  },
  {
   "cell_type": "markdown",
   "id": "e8b9f5e6",
   "metadata": {},
   "source": [
    "## Maryland Rooms Data"
   ]
  },
  {
   "cell_type": "code",
   "execution_count": 147,
   "id": "323d71f8",
   "metadata": {},
   "outputs": [
    {
     "data": {
      "text/html": [
       "<div>\n",
       "<style scoped>\n",
       "    .dataframe tbody tr th:only-of-type {\n",
       "        vertical-align: middle;\n",
       "    }\n",
       "\n",
       "    .dataframe tbody tr th {\n",
       "        vertical-align: top;\n",
       "    }\n",
       "\n",
       "    .dataframe thead th {\n",
       "        text-align: right;\n",
       "    }\n",
       "</style>\n",
       "<table border=\"1\" class=\"dataframe\">\n",
       "  <thead>\n",
       "    <tr style=\"text-align: right;\">\n",
       "      <th></th>\n",
       "      <th>Rooms</th>\n",
       "      <th>GEO_ID</th>\n",
       "      <th>Name</th>\n",
       "      <th>Year</th>\n",
       "    </tr>\n",
       "  </thead>\n",
       "  <tbody>\n",
       "    <tr>\n",
       "      <th>3856</th>\n",
       "      <td>1.4</td>\n",
       "      <td>1500000US245102717001</td>\n",
       "      <td>Block Group 1, Census Tract 2717, Baltimore ci...</td>\n",
       "      <td>2018</td>\n",
       "    </tr>\n",
       "    <tr>\n",
       "      <th>4009</th>\n",
       "      <td>1.4</td>\n",
       "      <td>1500000US245102717001</td>\n",
       "      <td>Block Group 1, Census Tract 2717, Baltimore ci...</td>\n",
       "      <td>2020</td>\n",
       "    </tr>\n",
       "    <tr>\n",
       "      <th>3856</th>\n",
       "      <td>1.4</td>\n",
       "      <td>1500000US245102717001</td>\n",
       "      <td>Block Group 1, Census Tract 2717, Baltimore ci...</td>\n",
       "      <td>2019</td>\n",
       "    </tr>\n",
       "    <tr>\n",
       "      <th>1695</th>\n",
       "      <td>1.4</td>\n",
       "      <td>1500000US240253065002</td>\n",
       "      <td>Block Group 2, Census Tract 3065, Harford Coun...</td>\n",
       "      <td>2020</td>\n",
       "    </tr>\n",
       "    <tr>\n",
       "      <th>3856</th>\n",
       "      <td>1.5</td>\n",
       "      <td>1500000US245102717001</td>\n",
       "      <td>Block Group 1, Census Tract 2717, Baltimore ci...</td>\n",
       "      <td>2017</td>\n",
       "    </tr>\n",
       "    <tr>\n",
       "      <th>...</th>\n",
       "      <td>...</td>\n",
       "      <td>...</td>\n",
       "      <td>...</td>\n",
       "      <td>...</td>\n",
       "    </tr>\n",
       "    <tr>\n",
       "      <th>1642</th>\n",
       "      <td>8.5</td>\n",
       "      <td>1500000US240276021004</td>\n",
       "      <td>Block Group 4, Census Tract 6021, Howard Count...</td>\n",
       "      <td>2016</td>\n",
       "    </tr>\n",
       "    <tr>\n",
       "      <th>986</th>\n",
       "      <td>8.5</td>\n",
       "      <td>1500000US240135042024</td>\n",
       "      <td>Block Group 4, Census Tract 5042.02, Carroll C...</td>\n",
       "      <td>2016</td>\n",
       "    </tr>\n",
       "    <tr>\n",
       "      <th>2052</th>\n",
       "      <td>8.5</td>\n",
       "      <td>1500000US240317013044</td>\n",
       "      <td>Block Group 4, Census Tract 7013.04, Montgomer...</td>\n",
       "      <td>2014</td>\n",
       "    </tr>\n",
       "    <tr>\n",
       "      <th>1915</th>\n",
       "      <td>8.5</td>\n",
       "      <td>1500000US240317008101</td>\n",
       "      <td>Block Group 1, Census Tract 7008.10, Montgomer...</td>\n",
       "      <td>2016</td>\n",
       "    </tr>\n",
       "    <tr>\n",
       "      <th>1005</th>\n",
       "      <td>8.5</td>\n",
       "      <td>1500000US240135061012</td>\n",
       "      <td>Block Group 2, Census Tract 5061.01, Carroll C...</td>\n",
       "      <td>2016</td>\n",
       "    </tr>\n",
       "  </tbody>\n",
       "</table>\n",
       "<p>28151 rows × 4 columns</p>\n",
       "</div>"
      ],
      "text/plain": [
       "      Rooms                 GEO_ID  \\\n",
       "3856    1.4  1500000US245102717001   \n",
       "4009    1.4  1500000US245102717001   \n",
       "3856    1.4  1500000US245102717001   \n",
       "1695    1.4  1500000US240253065002   \n",
       "3856    1.5  1500000US245102717001   \n",
       "...     ...                    ...   \n",
       "1642    8.5  1500000US240276021004   \n",
       "986     8.5  1500000US240135042024   \n",
       "2052    8.5  1500000US240317013044   \n",
       "1915    8.5  1500000US240317008101   \n",
       "1005    8.5  1500000US240135061012   \n",
       "\n",
       "                                                   Name  Year  \n",
       "3856  Block Group 1, Census Tract 2717, Baltimore ci...  2018  \n",
       "4009  Block Group 1, Census Tract 2717, Baltimore ci...  2020  \n",
       "3856  Block Group 1, Census Tract 2717, Baltimore ci...  2019  \n",
       "1695  Block Group 2, Census Tract 3065, Harford Coun...  2020  \n",
       "3856  Block Group 1, Census Tract 2717, Baltimore ci...  2017  \n",
       "...                                                 ...   ...  \n",
       "1642  Block Group 4, Census Tract 6021, Howard Count...  2016  \n",
       "986   Block Group 4, Census Tract 5042.02, Carroll C...  2016  \n",
       "2052  Block Group 4, Census Tract 7013.04, Montgomer...  2014  \n",
       "1915  Block Group 1, Census Tract 7008.10, Montgomer...  2016  \n",
       "1005  Block Group 2, Census Tract 5061.01, Carroll C...  2016  \n",
       "\n",
       "[28151 rows x 4 columns]"
      ]
     },
     "execution_count": 147,
     "metadata": {},
     "output_type": "execute_result"
    }
   ],
   "source": [
    "#first part of data source file name\n",
    "fileName = 'Maryland_Rooms'\n",
    "#second part of data source file name. Loop gathers data from each year\n",
    "list_of_years = ['2013','2014','2015','2016','2017','2018','2019','2020']\n",
    "\n",
    "H = House()\n",
    "#run read_house method in House object\n",
    "Maryland_Rooms_Original = H.read_house(fileName , list_of_years)\n",
    "\n",
    "\n",
    "#specific feature being used from source file\n",
    "feature = 'Rooms'\n",
    "#code of feature before being renamed\n",
    "code = 'B25018_001E'\n",
    "#run clean_house method in House object\n",
    "Maryland_Rooms = H.clean_house_room(Maryland_Rooms_Original, feature, code)\n",
    "Maryland_Rooms"
   ]
  },
  {
   "cell_type": "code",
   "execution_count": 125,
   "id": "806ffaa5",
   "metadata": {},
   "outputs": [
    {
     "data": {
      "text/plain": [
       "dtype('O')"
      ]
     },
     "execution_count": 125,
     "metadata": {},
     "output_type": "execute_result"
    }
   ],
   "source": [
    "Maryland_Rooms_Original['B25018_001E'].dtype"
   ]
  },
  {
   "cell_type": "markdown",
   "id": "ed25a205",
   "metadata": {},
   "source": [
    "## Maryland Children Data"
   ]
  },
  {
   "cell_type": "code",
   "execution_count": 76,
   "id": "fd0c06cd",
   "metadata": {},
   "outputs": [
    {
     "data": {
      "text/html": [
       "<div>\n",
       "<style scoped>\n",
       "    .dataframe tbody tr th:only-of-type {\n",
       "        vertical-align: middle;\n",
       "    }\n",
       "\n",
       "    .dataframe tbody tr th {\n",
       "        vertical-align: top;\n",
       "    }\n",
       "\n",
       "    .dataframe thead th {\n",
       "        text-align: right;\n",
       "    }\n",
       "</style>\n",
       "<table border=\"1\" class=\"dataframe\">\n",
       "  <thead>\n",
       "    <tr style=\"text-align: right;\">\n",
       "      <th></th>\n",
       "      <th>Children</th>\n",
       "      <th>GEO_ID</th>\n",
       "      <th>Name</th>\n",
       "      <th>Year</th>\n",
       "    </tr>\n",
       "  </thead>\n",
       "  <tbody>\n",
       "    <tr>\n",
       "      <th>889</th>\n",
       "      <td>3.0</td>\n",
       "      <td>1500000US240054925002</td>\n",
       "      <td>Block Group 2, Census Tract 4925, Baltimore Co...</td>\n",
       "      <td>2015</td>\n",
       "    </tr>\n",
       "    <tr>\n",
       "      <th>946</th>\n",
       "      <td>3.0</td>\n",
       "      <td>1500000US240054925002</td>\n",
       "      <td>Block Group 2, Census Tract 4925, Baltimore Co...</td>\n",
       "      <td>2020</td>\n",
       "    </tr>\n",
       "    <tr>\n",
       "      <th>3731</th>\n",
       "      <td>3.0</td>\n",
       "      <td>1500000US245102606056</td>\n",
       "      <td>Block Group 6, Census Tract 2606.05, Baltimore...</td>\n",
       "      <td>2017</td>\n",
       "    </tr>\n",
       "    <tr>\n",
       "      <th>3731</th>\n",
       "      <td>3.0</td>\n",
       "      <td>1500000US245102606056</td>\n",
       "      <td>Block Group 6, Census Tract 2606.05, Baltimore...</td>\n",
       "      <td>2016</td>\n",
       "    </tr>\n",
       "    <tr>\n",
       "      <th>3731</th>\n",
       "      <td>4.0</td>\n",
       "      <td>1500000US245102606056</td>\n",
       "      <td>Block Group 6, Census Tract 2606.05, Baltimore...</td>\n",
       "      <td>2014</td>\n",
       "    </tr>\n",
       "    <tr>\n",
       "      <th>...</th>\n",
       "      <td>...</td>\n",
       "      <td>...</td>\n",
       "      <td>...</td>\n",
       "      <td>...</td>\n",
       "    </tr>\n",
       "    <tr>\n",
       "      <th>1174</th>\n",
       "      <td>3078.0</td>\n",
       "      <td>1500000US240178509041</td>\n",
       "      <td>Block Group 1, Census Tract 8509.04, Charles C...</td>\n",
       "      <td>2018</td>\n",
       "    </tr>\n",
       "    <tr>\n",
       "      <th>258</th>\n",
       "      <td>3189.0</td>\n",
       "      <td>1500000US240037401022</td>\n",
       "      <td>Block Group 2, Census Tract 7401.02, Anne Arun...</td>\n",
       "      <td>2019</td>\n",
       "    </tr>\n",
       "    <tr>\n",
       "      <th>258</th>\n",
       "      <td>3218.0</td>\n",
       "      <td>1500000US240037401022</td>\n",
       "      <td>Block Group 2, Census Tract 7401.02, Anne Arun...</td>\n",
       "      <td>2017</td>\n",
       "    </tr>\n",
       "    <tr>\n",
       "      <th>1174</th>\n",
       "      <td>3369.0</td>\n",
       "      <td>1500000US240178509041</td>\n",
       "      <td>Block Group 1, Census Tract 8509.04, Charles C...</td>\n",
       "      <td>2019</td>\n",
       "    </tr>\n",
       "    <tr>\n",
       "      <th>258</th>\n",
       "      <td>3380.0</td>\n",
       "      <td>1500000US240037401022</td>\n",
       "      <td>Block Group 2, Census Tract 7401.02, Anne Arun...</td>\n",
       "      <td>2018</td>\n",
       "    </tr>\n",
       "  </tbody>\n",
       "</table>\n",
       "<p>31266 rows × 4 columns</p>\n",
       "</div>"
      ],
      "text/plain": [
       "      Children                 GEO_ID  \\\n",
       "889        3.0  1500000US240054925002   \n",
       "946        3.0  1500000US240054925002   \n",
       "3731       3.0  1500000US245102606056   \n",
       "3731       3.0  1500000US245102606056   \n",
       "3731       4.0  1500000US245102606056   \n",
       "...        ...                    ...   \n",
       "1174    3078.0  1500000US240178509041   \n",
       "258     3189.0  1500000US240037401022   \n",
       "258     3218.0  1500000US240037401022   \n",
       "1174    3369.0  1500000US240178509041   \n",
       "258     3380.0  1500000US240037401022   \n",
       "\n",
       "                                                   Name  Year  \n",
       "889   Block Group 2, Census Tract 4925, Baltimore Co...  2015  \n",
       "946   Block Group 2, Census Tract 4925, Baltimore Co...  2020  \n",
       "3731  Block Group 6, Census Tract 2606.05, Baltimore...  2017  \n",
       "3731  Block Group 6, Census Tract 2606.05, Baltimore...  2016  \n",
       "3731  Block Group 6, Census Tract 2606.05, Baltimore...  2014  \n",
       "...                                                 ...   ...  \n",
       "1174  Block Group 1, Census Tract 8509.04, Charles C...  2018  \n",
       "258   Block Group 2, Census Tract 7401.02, Anne Arun...  2019  \n",
       "258   Block Group 2, Census Tract 7401.02, Anne Arun...  2017  \n",
       "1174  Block Group 1, Census Tract 8509.04, Charles C...  2019  \n",
       "258   Block Group 2, Census Tract 7401.02, Anne Arun...  2018  \n",
       "\n",
       "[31266 rows x 4 columns]"
      ]
     },
     "execution_count": 76,
     "metadata": {},
     "output_type": "execute_result"
    }
   ],
   "source": [
    "#first part of data source file name\n",
    "fileName = 'Maryland_Children'\n",
    "#second part of data source file name. Loop gathers data from each year\n",
    "list_of_years = ['2013','2014','2015','2016','2017','2018','2019','2020']\n",
    "\n",
    "H = House()\n",
    "#run read_house method in House object\n",
    "Maryland_Children_Original = H.read_house(fileName , list_of_years)\n",
    "\n",
    "#specific feature being used from source file\n",
    "feature = 'Children'\n",
    "#code of feature before being renamed\n",
    "code = 'B11005_001E'\n",
    "#run clean_house method in House object\n",
    "Maryland_Children = H.clean_house(Maryland_Children_Original, feature, code)\n",
    "Maryland_Children"
   ]
  },
  {
   "cell_type": "markdown",
   "id": "1ed3a101",
   "metadata": {},
   "source": [
    "## Maryland HouseType Data"
   ]
  },
  {
   "cell_type": "code",
   "execution_count": 77,
   "id": "85b4c4bd",
   "metadata": {},
   "outputs": [
    {
     "data": {
      "text/html": [
       "<div>\n",
       "<style scoped>\n",
       "    .dataframe tbody tr th:only-of-type {\n",
       "        vertical-align: middle;\n",
       "    }\n",
       "\n",
       "    .dataframe tbody tr th {\n",
       "        vertical-align: top;\n",
       "    }\n",
       "\n",
       "    .dataframe thead th {\n",
       "        text-align: right;\n",
       "    }\n",
       "</style>\n",
       "<table border=\"1\" class=\"dataframe\">\n",
       "  <thead>\n",
       "    <tr style=\"text-align: right;\">\n",
       "      <th></th>\n",
       "      <th>HouseType</th>\n",
       "      <th>GEO_ID</th>\n",
       "      <th>Name</th>\n",
       "      <th>Year</th>\n",
       "    </tr>\n",
       "  </thead>\n",
       "  <tbody>\n",
       "    <tr>\n",
       "      <th>3731</th>\n",
       "      <td>3.0</td>\n",
       "      <td>1500000US245102606056</td>\n",
       "      <td>Block Group 6, Census Tract 2606.05, Baltimore...</td>\n",
       "      <td>2016</td>\n",
       "    </tr>\n",
       "    <tr>\n",
       "      <th>946</th>\n",
       "      <td>3.0</td>\n",
       "      <td>1500000US240054925002</td>\n",
       "      <td>Block Group 2, Census Tract 4925, Baltimore Co...</td>\n",
       "      <td>2020</td>\n",
       "    </tr>\n",
       "    <tr>\n",
       "      <th>889</th>\n",
       "      <td>3.0</td>\n",
       "      <td>1500000US240054925002</td>\n",
       "      <td>Block Group 2, Census Tract 4925, Baltimore Co...</td>\n",
       "      <td>2015</td>\n",
       "    </tr>\n",
       "    <tr>\n",
       "      <th>365</th>\n",
       "      <td>4.0</td>\n",
       "      <td>1500000US240039800001</td>\n",
       "      <td>Block Group 1, Census Tract 9800, Anne Arundel...</td>\n",
       "      <td>2014</td>\n",
       "    </tr>\n",
       "    <tr>\n",
       "      <th>3731</th>\n",
       "      <td>4.0</td>\n",
       "      <td>1500000US245102606056</td>\n",
       "      <td>Block Group 6, Census Tract 2606.05, Baltimore...</td>\n",
       "      <td>2015</td>\n",
       "    </tr>\n",
       "    <tr>\n",
       "      <th>...</th>\n",
       "      <td>...</td>\n",
       "      <td>...</td>\n",
       "      <td>...</td>\n",
       "      <td>...</td>\n",
       "    </tr>\n",
       "    <tr>\n",
       "      <th>258</th>\n",
       "      <td>2906.0</td>\n",
       "      <td>1500000US240037401022</td>\n",
       "      <td>Block Group 2, Census Tract 7401.02, Anne Arun...</td>\n",
       "      <td>2015</td>\n",
       "    </tr>\n",
       "    <tr>\n",
       "      <th>152</th>\n",
       "      <td>2985.0</td>\n",
       "      <td>1500000US240037301003</td>\n",
       "      <td>Block Group 3, Census Tract 7301, Anne Arundel...</td>\n",
       "      <td>2019</td>\n",
       "    </tr>\n",
       "    <tr>\n",
       "      <th>258</th>\n",
       "      <td>3053.0</td>\n",
       "      <td>1500000US240037401022</td>\n",
       "      <td>Block Group 2, Census Tract 7401.02, Anne Arun...</td>\n",
       "      <td>2016</td>\n",
       "    </tr>\n",
       "    <tr>\n",
       "      <th>258</th>\n",
       "      <td>3189.0</td>\n",
       "      <td>1500000US240037401022</td>\n",
       "      <td>Block Group 2, Census Tract 7401.02, Anne Arun...</td>\n",
       "      <td>2019</td>\n",
       "    </tr>\n",
       "    <tr>\n",
       "      <th>1174</th>\n",
       "      <td>3369.0</td>\n",
       "      <td>1500000US240178509041</td>\n",
       "      <td>Block Group 1, Census Tract 8509.04, Charles C...</td>\n",
       "      <td>2019</td>\n",
       "    </tr>\n",
       "  </tbody>\n",
       "</table>\n",
       "<p>23482 rows × 4 columns</p>\n",
       "</div>"
      ],
      "text/plain": [
       "      HouseType                 GEO_ID  \\\n",
       "3731        3.0  1500000US245102606056   \n",
       "946         3.0  1500000US240054925002   \n",
       "889         3.0  1500000US240054925002   \n",
       "365         4.0  1500000US240039800001   \n",
       "3731        4.0  1500000US245102606056   \n",
       "...         ...                    ...   \n",
       "258      2906.0  1500000US240037401022   \n",
       "152      2985.0  1500000US240037301003   \n",
       "258      3053.0  1500000US240037401022   \n",
       "258      3189.0  1500000US240037401022   \n",
       "1174     3369.0  1500000US240178509041   \n",
       "\n",
       "                                                   Name  Year  \n",
       "3731  Block Group 6, Census Tract 2606.05, Baltimore...  2016  \n",
       "946   Block Group 2, Census Tract 4925, Baltimore Co...  2020  \n",
       "889   Block Group 2, Census Tract 4925, Baltimore Co...  2015  \n",
       "365   Block Group 1, Census Tract 9800, Anne Arundel...  2014  \n",
       "3731  Block Group 6, Census Tract 2606.05, Baltimore...  2015  \n",
       "...                                                 ...   ...  \n",
       "258   Block Group 2, Census Tract 7401.02, Anne Arun...  2015  \n",
       "152   Block Group 3, Census Tract 7301, Anne Arundel...  2019  \n",
       "258   Block Group 2, Census Tract 7401.02, Anne Arun...  2016  \n",
       "258   Block Group 2, Census Tract 7401.02, Anne Arun...  2019  \n",
       "1174  Block Group 1, Census Tract 8509.04, Charles C...  2019  \n",
       "\n",
       "[23482 rows x 4 columns]"
      ]
     },
     "execution_count": 77,
     "metadata": {},
     "output_type": "execute_result"
    }
   ],
   "source": [
    "#first part of data source file name\n",
    "fileName = 'Maryland_HouseType'\n",
    "#second part of data source file name. Loop gathers data from each year\n",
    "list_of_years = ['2013','2014','2015','2016','2019','2020']\n",
    "\n",
    "H = House()\n",
    "#run read_house method in House object\n",
    "Maryland_HouseType_Original = H.read_house(fileName , list_of_years)\n",
    "\n",
    "#specific feature being used from source file\n",
    "feature = 'HouseType'\n",
    "#code of feature before being renamed\n",
    "code = 'B11016_001E'\n",
    "#run clean_house method in House object\n",
    "Maryland_HouseType = H.clean_house(Maryland_HouseType_Original, feature, code)\n",
    "Maryland_HouseType"
   ]
  },
  {
   "cell_type": "markdown",
   "id": "dbace2e5",
   "metadata": {},
   "source": [
    "## Maryland Age Data"
   ]
  },
  {
   "cell_type": "code",
   "execution_count": 78,
   "id": "9ec3adf8",
   "metadata": {},
   "outputs": [
    {
     "data": {
      "text/html": [
       "<div>\n",
       "<style scoped>\n",
       "    .dataframe tbody tr th:only-of-type {\n",
       "        vertical-align: middle;\n",
       "    }\n",
       "\n",
       "    .dataframe tbody tr th {\n",
       "        vertical-align: top;\n",
       "    }\n",
       "\n",
       "    .dataframe thead th {\n",
       "        text-align: right;\n",
       "    }\n",
       "</style>\n",
       "<table border=\"1\" class=\"dataframe\">\n",
       "  <thead>\n",
       "    <tr style=\"text-align: right;\">\n",
       "      <th></th>\n",
       "      <th>Units</th>\n",
       "      <th>GEO_ID</th>\n",
       "      <th>Name</th>\n",
       "      <th>Year</th>\n",
       "    </tr>\n",
       "  </thead>\n",
       "  <tbody>\n",
       "  </tbody>\n",
       "</table>\n",
       "</div>"
      ],
      "text/plain": [
       "Empty DataFrame\n",
       "Columns: [Units, GEO_ID, Name, Year]\n",
       "Index: []"
      ]
     },
     "execution_count": 78,
     "metadata": {},
     "output_type": "execute_result"
    }
   ],
   "source": [
    "#first part of data source file name\n",
    "fileName = 'Maryland_Age'\n",
    "#second part of data source file name. Loop gathers data from each year\n",
    "list_of_years = ['2013','2014','2015','2016','2017','2018','2019','2020']\n",
    "\n",
    "H = House()\n",
    "#run read_house method in House object\n",
    "Maryland_Age_Original = H.read_house(fileName , list_of_years)\n",
    "\n",
    "#specific feature being used from source file\n",
    "feature = 'Units'\n",
    "#code of feature before being renamed\n",
    "code = 'B01002_001E'\n",
    "#run clean_house method in House object\n",
    "Maryland_Age = H.clean_house(Maryland_Age_Original, feature, code)\n",
    "Maryland_Age"
   ]
  },
  {
   "cell_type": "markdown",
   "id": "0fc390e7",
   "metadata": {},
   "source": [
    "## Maryland Transportation Data"
   ]
  },
  {
   "cell_type": "code",
   "execution_count": 79,
   "id": "f2f03eb6",
   "metadata": {},
   "outputs": [
    {
     "data": {
      "text/html": [
       "<div>\n",
       "<style scoped>\n",
       "    .dataframe tbody tr th:only-of-type {\n",
       "        vertical-align: middle;\n",
       "    }\n",
       "\n",
       "    .dataframe tbody tr th {\n",
       "        vertical-align: top;\n",
       "    }\n",
       "\n",
       "    .dataframe thead th {\n",
       "        text-align: right;\n",
       "    }\n",
       "</style>\n",
       "<table border=\"1\" class=\"dataframe\">\n",
       "  <thead>\n",
       "    <tr style=\"text-align: right;\">\n",
       "      <th></th>\n",
       "      <th>Transportation</th>\n",
       "      <th>GEO_ID</th>\n",
       "      <th>Name</th>\n",
       "      <th>Year</th>\n",
       "    </tr>\n",
       "  </thead>\n",
       "  <tbody>\n",
       "    <tr>\n",
       "      <th>3871</th>\n",
       "      <td>3.0</td>\n",
       "      <td>1500000US245102604041</td>\n",
       "      <td>Block Group 1, Census Tract 2604.04, Baltimore...</td>\n",
       "      <td>2020</td>\n",
       "    </tr>\n",
       "    <tr>\n",
       "      <th>993</th>\n",
       "      <td>3.0</td>\n",
       "      <td>1500000US240135052032</td>\n",
       "      <td>Block Group 2, Census Tract 5052.03, Carroll C...</td>\n",
       "      <td>2014</td>\n",
       "    </tr>\n",
       "    <tr>\n",
       "      <th>3716</th>\n",
       "      <td>4.0</td>\n",
       "      <td>1500000US245102604032</td>\n",
       "      <td>Block Group 2, Census Tract 2604.03, Baltimore...</td>\n",
       "      <td>2019</td>\n",
       "    </tr>\n",
       "    <tr>\n",
       "      <th>365</th>\n",
       "      <td>4.0</td>\n",
       "      <td>1500000US240039800001</td>\n",
       "      <td>Block Group 1, Census Tract 9800, Anne Arundel...</td>\n",
       "      <td>2015</td>\n",
       "    </tr>\n",
       "    <tr>\n",
       "      <th>365</th>\n",
       "      <td>4.0</td>\n",
       "      <td>1500000US240039800001</td>\n",
       "      <td>Block Group 1, Census Tract 9800, Anne Arundel...</td>\n",
       "      <td>2014</td>\n",
       "    </tr>\n",
       "    <tr>\n",
       "      <th>...</th>\n",
       "      <td>...</td>\n",
       "      <td>...</td>\n",
       "      <td>...</td>\n",
       "      <td>...</td>\n",
       "    </tr>\n",
       "    <tr>\n",
       "      <th>1174</th>\n",
       "      <td>4411.0</td>\n",
       "      <td>1500000US240178509041</td>\n",
       "      <td>Block Group 1, Census Tract 8509.04, Charles C...</td>\n",
       "      <td>2019</td>\n",
       "    </tr>\n",
       "    <tr>\n",
       "      <th>152</th>\n",
       "      <td>4514.0</td>\n",
       "      <td>1500000US240037301003</td>\n",
       "      <td>Block Group 3, Census Tract 7301, Anne Arundel...</td>\n",
       "      <td>2019</td>\n",
       "    </tr>\n",
       "    <tr>\n",
       "      <th>258</th>\n",
       "      <td>4648.0</td>\n",
       "      <td>1500000US240037401022</td>\n",
       "      <td>Block Group 2, Census Tract 7401.02, Anne Arun...</td>\n",
       "      <td>2017</td>\n",
       "    </tr>\n",
       "    <tr>\n",
       "      <th>258</th>\n",
       "      <td>4731.0</td>\n",
       "      <td>1500000US240037401022</td>\n",
       "      <td>Block Group 2, Census Tract 7401.02, Anne Arun...</td>\n",
       "      <td>2019</td>\n",
       "    </tr>\n",
       "    <tr>\n",
       "      <th>258</th>\n",
       "      <td>4981.0</td>\n",
       "      <td>1500000US240037401022</td>\n",
       "      <td>Block Group 2, Census Tract 7401.02, Anne Arun...</td>\n",
       "      <td>2018</td>\n",
       "    </tr>\n",
       "  </tbody>\n",
       "</table>\n",
       "<p>31266 rows × 4 columns</p>\n",
       "</div>"
      ],
      "text/plain": [
       "      Transportation                 GEO_ID  \\\n",
       "3871             3.0  1500000US245102604041   \n",
       "993              3.0  1500000US240135052032   \n",
       "3716             4.0  1500000US245102604032   \n",
       "365              4.0  1500000US240039800001   \n",
       "365              4.0  1500000US240039800001   \n",
       "...              ...                    ...   \n",
       "1174          4411.0  1500000US240178509041   \n",
       "152           4514.0  1500000US240037301003   \n",
       "258           4648.0  1500000US240037401022   \n",
       "258           4731.0  1500000US240037401022   \n",
       "258           4981.0  1500000US240037401022   \n",
       "\n",
       "                                                   Name  Year  \n",
       "3871  Block Group 1, Census Tract 2604.04, Baltimore...  2020  \n",
       "993   Block Group 2, Census Tract 5052.03, Carroll C...  2014  \n",
       "3716  Block Group 2, Census Tract 2604.03, Baltimore...  2019  \n",
       "365   Block Group 1, Census Tract 9800, Anne Arundel...  2015  \n",
       "365   Block Group 1, Census Tract 9800, Anne Arundel...  2014  \n",
       "...                                                 ...   ...  \n",
       "1174  Block Group 1, Census Tract 8509.04, Charles C...  2019  \n",
       "152   Block Group 3, Census Tract 7301, Anne Arundel...  2019  \n",
       "258   Block Group 2, Census Tract 7401.02, Anne Arun...  2017  \n",
       "258   Block Group 2, Census Tract 7401.02, Anne Arun...  2019  \n",
       "258   Block Group 2, Census Tract 7401.02, Anne Arun...  2018  \n",
       "\n",
       "[31266 rows x 4 columns]"
      ]
     },
     "execution_count": 79,
     "metadata": {},
     "output_type": "execute_result"
    }
   ],
   "source": [
    "#first part of data source file name\n",
    "fileName = 'Maryland_Transportation'\n",
    "#second part of data source file name. Loop gathers data from each year\n",
    "list_of_years = ['2013','2014','2015','2016','2017','2018','2019','2020']\n",
    "\n",
    "H = House()\n",
    "#run read_house method in House object\n",
    "Maryland_Transportation_Original = H.read_house(fileName , list_of_years)\n",
    "\n",
    "#specific feature being used from source file\n",
    "feature = 'Transportation'\n",
    "#code of feature before being renamed\n",
    "code = 'B08134_001E'\n",
    "#run clean_house method in House object\n",
    "Maryland_Transportation = H.clean_house(Maryland_Transportation_Original, feature, code)\n",
    "Maryland_Transportation"
   ]
  },
  {
   "cell_type": "markdown",
   "id": "13ec9c0f",
   "metadata": {},
   "source": [
    "## Maryland HousePrice Data"
   ]
  },
  {
   "cell_type": "code",
   "execution_count": 80,
   "id": "66da7f02",
   "metadata": {},
   "outputs": [
    {
     "data": {
      "text/html": [
       "<div>\n",
       "<style scoped>\n",
       "    .dataframe tbody tr th:only-of-type {\n",
       "        vertical-align: middle;\n",
       "    }\n",
       "\n",
       "    .dataframe tbody tr th {\n",
       "        vertical-align: top;\n",
       "    }\n",
       "\n",
       "    .dataframe thead th {\n",
       "        text-align: right;\n",
       "    }\n",
       "</style>\n",
       "<table border=\"1\" class=\"dataframe\">\n",
       "  <thead>\n",
       "    <tr style=\"text-align: right;\">\n",
       "      <th></th>\n",
       "      <th>HousePrice</th>\n",
       "      <th>GEO_ID</th>\n",
       "      <th>Name</th>\n",
       "      <th>Year</th>\n",
       "    </tr>\n",
       "  </thead>\n",
       "  <tbody>\n",
       "    <tr>\n",
       "      <th>3592</th>\n",
       "      <td>10400.0</td>\n",
       "      <td>1500000US245102003001</td>\n",
       "      <td>Block Group 1, Census Tract 2003, Baltimore ci...</td>\n",
       "      <td>2014</td>\n",
       "    </tr>\n",
       "    <tr>\n",
       "      <th>3528</th>\n",
       "      <td>14100.0</td>\n",
       "      <td>1500000US245101601003</td>\n",
       "      <td>Block Group 3, Census Tract 1601, Baltimore ci...</td>\n",
       "      <td>2013</td>\n",
       "    </tr>\n",
       "    <tr>\n",
       "      <th>1595</th>\n",
       "      <td>14800.0</td>\n",
       "      <td>1500000US240253029012</td>\n",
       "      <td>Block Group 2, Census Tract 3029.01, Harford C...</td>\n",
       "      <td>2020</td>\n",
       "    </tr>\n",
       "    <tr>\n",
       "      <th>3867</th>\n",
       "      <td>18800.0</td>\n",
       "      <td>1500000US245102718023</td>\n",
       "      <td>Block Group 3, Census Tract 2718.02, Baltimore...</td>\n",
       "      <td>2017</td>\n",
       "    </tr>\n",
       "    <tr>\n",
       "      <th>2658</th>\n",
       "      <td>19800.0</td>\n",
       "      <td>1500000US240338022011</td>\n",
       "      <td>Block Group 1, Census Tract 8022.01, Prince Ge...</td>\n",
       "      <td>2013</td>\n",
       "    </tr>\n",
       "    <tr>\n",
       "      <th>...</th>\n",
       "      <td>...</td>\n",
       "      <td>...</td>\n",
       "      <td>...</td>\n",
       "      <td>...</td>\n",
       "    </tr>\n",
       "    <tr>\n",
       "      <th>2350</th>\n",
       "      <td>1801500.0</td>\n",
       "      <td>1500000US240317053001</td>\n",
       "      <td>Block Group 1, Census Tract 7053, Montgomery C...</td>\n",
       "      <td>2016</td>\n",
       "    </tr>\n",
       "    <tr>\n",
       "      <th>2464</th>\n",
       "      <td>1856600.0</td>\n",
       "      <td>1500000US240317047003</td>\n",
       "      <td>Block Group 3, Census Tract 7047, Montgomery C...</td>\n",
       "      <td>2020</td>\n",
       "    </tr>\n",
       "    <tr>\n",
       "      <th>2329</th>\n",
       "      <td>1875000.0</td>\n",
       "      <td>1500000US240317047003</td>\n",
       "      <td>Block Group 3, Census Tract 7047, Montgomery C...</td>\n",
       "      <td>2018</td>\n",
       "    </tr>\n",
       "    <tr>\n",
       "      <th>2350</th>\n",
       "      <td>1904400.0</td>\n",
       "      <td>1500000US240317053001</td>\n",
       "      <td>Block Group 1, Census Tract 7053, Montgomery C...</td>\n",
       "      <td>2017</td>\n",
       "    </tr>\n",
       "    <tr>\n",
       "      <th>2329</th>\n",
       "      <td>1957000.0</td>\n",
       "      <td>1500000US240317047003</td>\n",
       "      <td>Block Group 3, Census Tract 7047, Montgomery C...</td>\n",
       "      <td>2019</td>\n",
       "    </tr>\n",
       "  </tbody>\n",
       "</table>\n",
       "<p>29442 rows × 4 columns</p>\n",
       "</div>"
      ],
      "text/plain": [
       "      HousePrice                 GEO_ID  \\\n",
       "3592     10400.0  1500000US245102003001   \n",
       "3528     14100.0  1500000US245101601003   \n",
       "1595     14800.0  1500000US240253029012   \n",
       "3867     18800.0  1500000US245102718023   \n",
       "2658     19800.0  1500000US240338022011   \n",
       "...          ...                    ...   \n",
       "2350   1801500.0  1500000US240317053001   \n",
       "2464   1856600.0  1500000US240317047003   \n",
       "2329   1875000.0  1500000US240317047003   \n",
       "2350   1904400.0  1500000US240317053001   \n",
       "2329   1957000.0  1500000US240317047003   \n",
       "\n",
       "                                                   Name  Year  \n",
       "3592  Block Group 1, Census Tract 2003, Baltimore ci...  2014  \n",
       "3528  Block Group 3, Census Tract 1601, Baltimore ci...  2013  \n",
       "1595  Block Group 2, Census Tract 3029.01, Harford C...  2020  \n",
       "3867  Block Group 3, Census Tract 2718.02, Baltimore...  2017  \n",
       "2658  Block Group 1, Census Tract 8022.01, Prince Ge...  2013  \n",
       "...                                                 ...   ...  \n",
       "2350  Block Group 1, Census Tract 7053, Montgomery C...  2016  \n",
       "2464  Block Group 3, Census Tract 7047, Montgomery C...  2020  \n",
       "2329  Block Group 3, Census Tract 7047, Montgomery C...  2018  \n",
       "2350  Block Group 1, Census Tract 7053, Montgomery C...  2017  \n",
       "2329  Block Group 3, Census Tract 7047, Montgomery C...  2019  \n",
       "\n",
       "[29442 rows x 4 columns]"
      ]
     },
     "execution_count": 80,
     "metadata": {},
     "output_type": "execute_result"
    }
   ],
   "source": [
    "#first part of data source file name\n",
    "fileName = 'Maryland_HousePrice'\n",
    "#second part of data source file name. Loop gathers data from each year\n",
    "list_of_years = ['2013','2014','2015','2016','2017','2018','2019','2020']\n",
    "\n",
    "H = House()\n",
    "#run read_house method in House object\n",
    "Maryland_HousePrice_Original = H.read_house(fileName , list_of_years)\n",
    "\n",
    "#specific feature being used from source file\n",
    "feature = 'HousePrice'\n",
    "#code of feature before being renamed\n",
    "code = 'B25077_001E'\n",
    "#run clean_house method in House object\n",
    "Maryland_HousePrice = H.clean_house(Maryland_HousePrice_Original, feature, code)\n",
    "Maryland_HousePrice"
   ]
  },
  {
   "cell_type": "markdown",
   "id": "a113d830",
   "metadata": {},
   "source": [
    "## Maryland School Data"
   ]
  },
  {
   "cell_type": "code",
   "execution_count": 81,
   "id": "185e0547",
   "metadata": {},
   "outputs": [
    {
     "data": {
      "text/html": [
       "<div>\n",
       "<style scoped>\n",
       "    .dataframe tbody tr th:only-of-type {\n",
       "        vertical-align: middle;\n",
       "    }\n",
       "\n",
       "    .dataframe tbody tr th {\n",
       "        vertical-align: top;\n",
       "    }\n",
       "\n",
       "    .dataframe thead th {\n",
       "        text-align: right;\n",
       "    }\n",
       "</style>\n",
       "<table border=\"1\" class=\"dataframe\">\n",
       "  <thead>\n",
       "    <tr style=\"text-align: right;\">\n",
       "      <th></th>\n",
       "      <th>School</th>\n",
       "      <th>GEO_ID</th>\n",
       "      <th>Name</th>\n",
       "      <th>Year</th>\n",
       "    </tr>\n",
       "  </thead>\n",
       "  <tbody>\n",
       "    <tr>\n",
       "      <th>3731</th>\n",
       "      <td>3.0</td>\n",
       "      <td>1500000US245102606056</td>\n",
       "      <td>Block Group 6, Census Tract 2606.05, Baltimore...</td>\n",
       "      <td>2017</td>\n",
       "    </tr>\n",
       "    <tr>\n",
       "      <th>3731</th>\n",
       "      <td>3.0</td>\n",
       "      <td>1500000US245102606056</td>\n",
       "      <td>Block Group 6, Census Tract 2606.05, Baltimore...</td>\n",
       "      <td>2016</td>\n",
       "    </tr>\n",
       "    <tr>\n",
       "      <th>3731</th>\n",
       "      <td>4.0</td>\n",
       "      <td>1500000US245102606056</td>\n",
       "      <td>Block Group 6, Census Tract 2606.05, Baltimore...</td>\n",
       "      <td>2015</td>\n",
       "    </tr>\n",
       "    <tr>\n",
       "      <th>3717</th>\n",
       "      <td>5.0</td>\n",
       "      <td>1500000US245102604041</td>\n",
       "      <td>Block Group 1, Census Tract 2604.04, Baltimore...</td>\n",
       "      <td>2016</td>\n",
       "    </tr>\n",
       "    <tr>\n",
       "      <th>3717</th>\n",
       "      <td>5.0</td>\n",
       "      <td>1500000US245102604041</td>\n",
       "      <td>Block Group 1, Census Tract 2604.04, Baltimore...</td>\n",
       "      <td>2013</td>\n",
       "    </tr>\n",
       "    <tr>\n",
       "      <th>...</th>\n",
       "      <td>...</td>\n",
       "      <td>...</td>\n",
       "      <td>...</td>\n",
       "      <td>...</td>\n",
       "    </tr>\n",
       "    <tr>\n",
       "      <th>1174</th>\n",
       "      <td>7780.0</td>\n",
       "      <td>1500000US240178509041</td>\n",
       "      <td>Block Group 1, Census Tract 8509.04, Charles C...</td>\n",
       "      <td>2018</td>\n",
       "    </tr>\n",
       "    <tr>\n",
       "      <th>1805</th>\n",
       "      <td>7796.0</td>\n",
       "      <td>1500000US240317002051</td>\n",
       "      <td>Block Group 1, Census Tract 7002.05, Montgomer...</td>\n",
       "      <td>2018</td>\n",
       "    </tr>\n",
       "    <tr>\n",
       "      <th>1174</th>\n",
       "      <td>8314.0</td>\n",
       "      <td>1500000US240178509041</td>\n",
       "      <td>Block Group 1, Census Tract 8509.04, Charles C...</td>\n",
       "      <td>2019</td>\n",
       "    </tr>\n",
       "    <tr>\n",
       "      <th>1805</th>\n",
       "      <td>8628.0</td>\n",
       "      <td>1500000US240317002051</td>\n",
       "      <td>Block Group 1, Census Tract 7002.05, Montgomer...</td>\n",
       "      <td>2019</td>\n",
       "    </tr>\n",
       "    <tr>\n",
       "      <th>3082</th>\n",
       "      <td>13659.0</td>\n",
       "      <td>1500000US240339800001</td>\n",
       "      <td>Block Group 1, Census Tract 9800, Prince Georg...</td>\n",
       "      <td>2020</td>\n",
       "    </tr>\n",
       "  </tbody>\n",
       "</table>\n",
       "<p>31353 rows × 4 columns</p>\n",
       "</div>"
      ],
      "text/plain": [
       "       School                 GEO_ID  \\\n",
       "3731      3.0  1500000US245102606056   \n",
       "3731      3.0  1500000US245102606056   \n",
       "3731      4.0  1500000US245102606056   \n",
       "3717      5.0  1500000US245102604041   \n",
       "3717      5.0  1500000US245102604041   \n",
       "...       ...                    ...   \n",
       "1174   7780.0  1500000US240178509041   \n",
       "1805   7796.0  1500000US240317002051   \n",
       "1174   8314.0  1500000US240178509041   \n",
       "1805   8628.0  1500000US240317002051   \n",
       "3082  13659.0  1500000US240339800001   \n",
       "\n",
       "                                                   Name  Year  \n",
       "3731  Block Group 6, Census Tract 2606.05, Baltimore...  2017  \n",
       "3731  Block Group 6, Census Tract 2606.05, Baltimore...  2016  \n",
       "3731  Block Group 6, Census Tract 2606.05, Baltimore...  2015  \n",
       "3717  Block Group 1, Census Tract 2604.04, Baltimore...  2016  \n",
       "3717  Block Group 1, Census Tract 2604.04, Baltimore...  2013  \n",
       "...                                                 ...   ...  \n",
       "1174  Block Group 1, Census Tract 8509.04, Charles C...  2018  \n",
       "1805  Block Group 1, Census Tract 7002.05, Montgomer...  2018  \n",
       "1174  Block Group 1, Census Tract 8509.04, Charles C...  2019  \n",
       "1805  Block Group 1, Census Tract 7002.05, Montgomer...  2019  \n",
       "3082  Block Group 1, Census Tract 9800, Prince Georg...  2020  \n",
       "\n",
       "[31353 rows x 4 columns]"
      ]
     },
     "execution_count": 81,
     "metadata": {},
     "output_type": "execute_result"
    }
   ],
   "source": [
    "#first part of data source file name\n",
    "fileName = 'Maryland_School'\n",
    "#second part of data source file name. Loop gathers data from each year\n",
    "list_of_years = ['2013','2014','2015','2016','2017','2018','2019','2020']\n",
    "\n",
    "H = House()\n",
    "#run read_house method in House object\n",
    "Maryland_School_Original = H.read_house(fileName , list_of_years)\n",
    "\n",
    "#specific feature being used from source file\n",
    "feature = 'School'\n",
    "#code of feature before being renamed\n",
    "code = 'B14007_001E'\n",
    "#run clean_house method in House object\n",
    "Maryland_School = H.clean_house(Maryland_School_Original, feature, code)\n",
    "Maryland_School"
   ]
  },
  {
   "cell_type": "markdown",
   "id": "a4360583",
   "metadata": {},
   "source": [
    "## Maryland Area Data"
   ]
  },
  {
   "cell_type": "code",
   "execution_count": 82,
   "id": "edca6ff0",
   "metadata": {},
   "outputs": [],
   "source": [
    "# Would've tried to use this data, but doesn't seem to be easily accessible through Census database"
   ]
  },
  {
   "cell_type": "markdown",
   "id": "00e49b31",
   "metadata": {},
   "source": [
    "# Data Cleaning/Breakdown"
   ]
  },
  {
   "cell_type": "markdown",
   "id": "78195f84",
   "metadata": {},
   "source": [
    "## Maryland Housing Data"
   ]
  },
  {
   "cell_type": "code",
   "execution_count": 83,
   "id": "10f0abaa",
   "metadata": {},
   "outputs": [
    {
     "data": {
      "image/png": "[encoded data removed]",
      "text/plain": [
       "<Figure size 432x288 with 1 Axes>"
      ]
     },
     "metadata": {
      "needs_background": "light"
     },
     "output_type": "display_data"
    }
   ],
   "source": [
    "#Show graph with density and histogram distributions\n",
    "sns.set_color_codes()\n",
    "ax = sns.histplot(Maryland_Housing['Units'], color=\"b\", kde=True)"
   ]
  },
  {
   "cell_type": "code",
   "execution_count": 84,
   "id": "907d8af4",
   "metadata": {},
   "outputs": [
    {
     "data": {
      "text/plain": [
       "([<matplotlib.axis.XTick at 0x1a853ef3730>,\n",
       "  <matplotlib.axis.XTick at 0x1a853ef3700>,\n",
       "  <matplotlib.axis.XTick at 0x1a853eee280>,\n",
       "  <matplotlib.axis.XTick at 0x1a853f4c520>,\n",
       "  <matplotlib.axis.XTick at 0x1a853f4ca30>,\n",
       "  <matplotlib.axis.XTick at 0x1a853f4cf40>,\n",
       "  <matplotlib.axis.XTick at 0x1a853f56490>,\n",
       "  <matplotlib.axis.XTick at 0x1a853f569a0>,\n",
       "  <matplotlib.axis.XTick at 0x1a853f56eb0>,\n",
       "  <matplotlib.axis.XTick at 0x1a853f56610>,\n",
       "  <matplotlib.axis.XTick at 0x1a853f4c670>,\n",
       "  <matplotlib.axis.XTick at 0x1a853f5c400>,\n",
       "  <matplotlib.axis.XTick at 0x1a853f5c910>,\n",
       "  <matplotlib.axis.XTick at 0x1a853f5ce20>,\n",
       "  <matplotlib.axis.XTick at 0x1a853f62370>,\n",
       "  <matplotlib.axis.XTick at 0x1a853f62880>,\n",
       "  <matplotlib.axis.XTick at 0x1a853f62dc0>,\n",
       "  <matplotlib.axis.XTick at 0x1a853f68310>,\n",
       "  <matplotlib.axis.XTick at 0x1a853f62550>,\n",
       "  <matplotlib.axis.XTick at 0x1a853f5c5e0>],\n",
       " [Text(0, 0, ''),\n",
       "  Text(0, 0, ''),\n",
       "  Text(0, 0, ''),\n",
       "  Text(0, 0, ''),\n",
       "  Text(0, 0, ''),\n",
       "  Text(0, 0, ''),\n",
       "  Text(0, 0, ''),\n",
       "  Text(0, 0, ''),\n",
       "  Text(0, 0, ''),\n",
       "  Text(0, 0, ''),\n",
       "  Text(0, 0, ''),\n",
       "  Text(0, 0, ''),\n",
       "  Text(0, 0, ''),\n",
       "  Text(0, 0, ''),\n",
       "  Text(0, 0, ''),\n",
       "  Text(0, 0, ''),\n",
       "  Text(0, 0, ''),\n",
       "  Text(0, 0, ''),\n",
       "  Text(0, 0, ''),\n",
       "  Text(0, 0, '')])"
      ]
     },
     "execution_count": 84,
     "metadata": {},
     "output_type": "execute_result"
    },
    {
     "data": {
      "image/png": "[encoded data removed]",
      "text/plain": [
       "<Figure size 432x288 with 1 Axes>"
      ]
     },
     "metadata": {
      "needs_background": "light"
     },
     "output_type": "display_data"
    }
   ],
   "source": [
    "plt.hist(Maryland_Housing['Units'],edgecolor = \"red\", bins=range(0,2000,100))\n",
    "plt.xticks(range(0,2000,100), rotation=90)"
   ]
  },
  {
   "cell_type": "code",
   "execution_count": 85,
   "id": "faf14b69",
   "metadata": {},
   "outputs": [
    {
     "data": {
      "text/plain": [
       "0.40560156025194233"
      ]
     },
     "execution_count": 85,
     "metadata": {},
     "output_type": "execute_result"
    }
   ],
   "source": [
    "Maryland_Housing.loc[(Maryland_Housing['Units']>Maryland_Housing['Units'].mean())].shape[0]/len(Maryland_Housing)"
   ]
  },
  {
   "cell_type": "code",
   "execution_count": 86,
   "id": "944d6d40",
   "metadata": {},
   "outputs": [
    {
     "data": {
      "text/html": [
       "<div>\n",
       "<style scoped>\n",
       "    .dataframe tbody tr th:only-of-type {\n",
       "        vertical-align: middle;\n",
       "    }\n",
       "\n",
       "    .dataframe tbody tr th {\n",
       "        vertical-align: top;\n",
       "    }\n",
       "\n",
       "    .dataframe thead th {\n",
       "        text-align: right;\n",
       "    }\n",
       "</style>\n",
       "<table border=\"1\" class=\"dataframe\">\n",
       "  <thead>\n",
       "    <tr style=\"text-align: right;\">\n",
       "      <th></th>\n",
       "      <th>Name</th>\n",
       "      <th>Year</th>\n",
       "    </tr>\n",
       "  </thead>\n",
       "  <tbody>\n",
       "    <tr>\n",
       "      <th>3229</th>\n",
       "      <td>Block Group 2, Census Tract 9501, Worcester Co...</td>\n",
       "      <td>2019</td>\n",
       "    </tr>\n",
       "  </tbody>\n",
       "</table>\n",
       "</div>"
      ],
      "text/plain": [
       "                                                   Name  Year\n",
       "3229  Block Group 2, Census Tract 9501, Worcester Co...  2019"
      ]
     },
     "execution_count": 86,
     "metadata": {},
     "output_type": "execute_result"
    }
   ],
   "source": [
    "Maryland_Housing.loc[(Maryland_Housing['Units']==Maryland_Housing['Units'].max()),('Name','Year')]"
   ]
  },
  {
   "cell_type": "code",
   "execution_count": 87,
   "id": "5eab62b5",
   "metadata": {},
   "outputs": [
    {
     "data": {
      "text/plain": [
       "<matplotlib.lines.Line2D at 0x1a8540481f0>"
      ]
     },
     "execution_count": 87,
     "metadata": {},
     "output_type": "execute_result"
    },
    {
     "data": {
      "image/png": "[encoded data removed]",
      "text/plain": [
       "<Figure size 1152x288 with 1 Axes>"
      ]
     },
     "metadata": {
      "needs_background": "light"
     },
     "output_type": "display_data"
    }
   ],
   "source": [
    "ax = Maryland_Housing['Units'].plot(kind='density',figsize = (16,4))\n",
    "ax.axvline(Maryland_Housing['Units'].mean(),color='red')\n",
    "ax.axvline(Maryland_Housing['Units'].median(),color='green')\n",
    "ax.axvline(Maryland_Housing['Units'].min(),color='blue')\n",
    "ax.axvline(Maryland_Housing['Units'].max(),color='purple')"
   ]
  },
  {
   "cell_type": "markdown",
   "id": "10d92035",
   "metadata": {},
   "source": [
    "## Maryland Population Data"
   ]
  },
  {
   "cell_type": "code",
   "execution_count": 88,
   "id": "ad65f4a5",
   "metadata": {},
   "outputs": [
    {
     "data": {
      "image/png": "[encoded data removed]",
      "text/plain": [
       "<Figure size 432x288 with 1 Axes>"
      ]
     },
     "metadata": {
      "needs_background": "light"
     },
     "output_type": "display_data"
    }
   ],
   "source": [
    "#Show graph with density and histogram distributions\n",
    "sns.set_color_codes()\n",
    "ax = sns.histplot(Maryland_Population['Population'], color=\"b\", kde=True)"
   ]
  },
  {
   "cell_type": "code",
   "execution_count": 89,
   "id": "1f252fbb",
   "metadata": {},
   "outputs": [
    {
     "data": {
      "text/plain": [
       "([<matplotlib.axis.XTick at 0x1a853de1a30>,\n",
       "  <matplotlib.axis.XTick at 0x1a853de1a60>,\n",
       "  <matplotlib.axis.XTick at 0x1a853dd3430>,\n",
       "  <matplotlib.axis.XTick at 0x1a853e3e7f0>,\n",
       "  <matplotlib.axis.XTick at 0x1a853ea8af0>,\n",
       "  <matplotlib.axis.XTick at 0x1a853e5eee0>,\n",
       "  <matplotlib.axis.XTick at 0x1a853e5e160>,\n",
       "  <matplotlib.axis.XTick at 0x1a853ea8280>,\n",
       "  <matplotlib.axis.XTick at 0x1a853e43d90>,\n",
       "  <matplotlib.axis.XTick at 0x1a853e43490>,\n",
       "  <matplotlib.axis.XTick at 0x1a853e43430>,\n",
       "  <matplotlib.axis.XTick at 0x1a853ea3f40>,\n",
       "  <matplotlib.axis.XTick at 0x1a853ea38b0>,\n",
       "  <matplotlib.axis.XTick at 0x1a853ea3b50>,\n",
       "  <matplotlib.axis.XTick at 0x1a853e20a00>,\n",
       "  <matplotlib.axis.XTick at 0x1a853e20580>,\n",
       "  <matplotlib.axis.XTick at 0x1a853ea3700>,\n",
       "  <matplotlib.axis.XTick at 0x1a853e43880>,\n",
       "  <matplotlib.axis.XTick at 0x1a853e20eb0>,\n",
       "  <matplotlib.axis.XTick at 0x1a853e20940>,\n",
       "  <matplotlib.axis.XTick at 0x1a853e0ff70>,\n",
       "  <matplotlib.axis.XTick at 0x1a853e0f8b0>,\n",
       "  <matplotlib.axis.XTick at 0x1a853e0fd90>,\n",
       "  <matplotlib.axis.XTick at 0x1a853a84100>,\n",
       "  <matplotlib.axis.XTick at 0x1a853a84c10>,\n",
       "  <matplotlib.axis.XTick at 0x1a853e0f670>,\n",
       "  <matplotlib.axis.XTick at 0x1a853e20cd0>,\n",
       "  <matplotlib.axis.XTick at 0x1a853a84df0>,\n",
       "  <matplotlib.axis.XTick at 0x1a853a843a0>,\n",
       "  <matplotlib.axis.XTick at 0x1a85319db50>],\n",
       " [Text(0, 0, ''),\n",
       "  Text(0, 0, ''),\n",
       "  Text(0, 0, ''),\n",
       "  Text(0, 0, ''),\n",
       "  Text(0, 0, ''),\n",
       "  Text(0, 0, ''),\n",
       "  Text(0, 0, ''),\n",
       "  Text(0, 0, ''),\n",
       "  Text(0, 0, ''),\n",
       "  Text(0, 0, ''),\n",
       "  Text(0, 0, ''),\n",
       "  Text(0, 0, ''),\n",
       "  Text(0, 0, ''),\n",
       "  Text(0, 0, ''),\n",
       "  Text(0, 0, ''),\n",
       "  Text(0, 0, ''),\n",
       "  Text(0, 0, ''),\n",
       "  Text(0, 0, ''),\n",
       "  Text(0, 0, ''),\n",
       "  Text(0, 0, ''),\n",
       "  Text(0, 0, ''),\n",
       "  Text(0, 0, ''),\n",
       "  Text(0, 0, ''),\n",
       "  Text(0, 0, ''),\n",
       "  Text(0, 0, ''),\n",
       "  Text(0, 0, ''),\n",
       "  Text(0, 0, ''),\n",
       "  Text(0, 0, ''),\n",
       "  Text(0, 0, ''),\n",
       "  Text(0, 0, '')])"
      ]
     },
     "execution_count": 89,
     "metadata": {},
     "output_type": "execute_result"
    },
    {
     "data": {
      "image/png": "[encoded data removed]",
      "text/plain": [
       "<Figure size 432x288 with 1 Axes>"
      ]
     },
     "metadata": {
      "needs_background": "light"
     },
     "output_type": "display_data"
    }
   ],
   "source": [
    "plt.hist(Maryland_Population['Population'],edgecolor = \"red\", bins=range(0,3000,100))\n",
    "plt.xticks(range(0,3000,100), rotation=90)"
   ]
  },
  {
   "cell_type": "code",
   "execution_count": 90,
   "id": "176a6c65",
   "metadata": {},
   "outputs": [
    {
     "data": {
      "text/plain": [
       "0.42196918955123913"
      ]
     },
     "execution_count": 90,
     "metadata": {},
     "output_type": "execute_result"
    }
   ],
   "source": [
    "Maryland_Population.loc[(Maryland_Population['Population']>Maryland_Population['Population'].mean())].shape[0]/len(Maryland_Population)"
   ]
  },
  {
   "cell_type": "code",
   "execution_count": 91,
   "id": "0270f1b6",
   "metadata": {},
   "outputs": [
    {
     "data": {
      "text/html": [
       "<div>\n",
       "<style scoped>\n",
       "    .dataframe tbody tr th:only-of-type {\n",
       "        vertical-align: middle;\n",
       "    }\n",
       "\n",
       "    .dataframe tbody tr th {\n",
       "        vertical-align: top;\n",
       "    }\n",
       "\n",
       "    .dataframe thead th {\n",
       "        text-align: right;\n",
       "    }\n",
       "</style>\n",
       "<table border=\"1\" class=\"dataframe\">\n",
       "  <thead>\n",
       "    <tr style=\"text-align: right;\">\n",
       "      <th></th>\n",
       "      <th>Name</th>\n",
       "      <th>Year</th>\n",
       "    </tr>\n",
       "  </thead>\n",
       "  <tbody>\n",
       "    <tr>\n",
       "      <th>3082</th>\n",
       "      <td>Block Group 1, Census Tract 9800, Prince Georg...</td>\n",
       "      <td>2020</td>\n",
       "    </tr>\n",
       "  </tbody>\n",
       "</table>\n",
       "</div>"
      ],
      "text/plain": [
       "                                                   Name  Year\n",
       "3082  Block Group 1, Census Tract 9800, Prince Georg...  2020"
      ]
     },
     "execution_count": 91,
     "metadata": {},
     "output_type": "execute_result"
    }
   ],
   "source": [
    "Maryland_Population.loc[(Maryland_Population['Population']==Maryland_Population['Population'].max()),('Name','Year')]"
   ]
  },
  {
   "cell_type": "code",
   "execution_count": 92,
   "id": "fa56df97",
   "metadata": {},
   "outputs": [
    {
     "data": {
      "text/plain": [
       "<matplotlib.lines.Line2D at 0x1a83a0850d0>"
      ]
     },
     "execution_count": 92,
     "metadata": {},
     "output_type": "execute_result"
    },
    {
     "data": {
      "image/png": "[encoded data removed]",
      "text/plain": [
       "<Figure size 1152x288 with 1 Axes>"
      ]
     },
     "metadata": {
      "needs_background": "light"
     },
     "output_type": "display_data"
    }
   ],
   "source": [
    "ax = Maryland_Population['Population'].plot(kind='density',figsize = (16,4))\n",
    "ax.axvline(Maryland_Population['Population'].mean(),color='red')\n",
    "ax.axvline(Maryland_Population['Population'].median(),color='green')\n",
    "ax.axvline(Maryland_Population['Population'].min(),color='blue')\n",
    "ax.axvline(Maryland_Population['Population'].max(),color='purple')"
   ]
  },
  {
   "cell_type": "markdown",
   "id": "3dc6c472",
   "metadata": {},
   "source": [
    "## Maryland Earnings Data"
   ]
  },
  {
   "cell_type": "code",
   "execution_count": 93,
   "id": "c268639e",
   "metadata": {},
   "outputs": [
    {
     "data": {
      "image/png": "[encoded data removed]",
      "text/plain": [
       "<Figure size 432x288 with 1 Axes>"
      ]
     },
     "metadata": {
      "needs_background": "light"
     },
     "output_type": "display_data"
    }
   ],
   "source": [
    "#Show graph with density and histogram distributions\n",
    "sns.set_color_codes()\n",
    "ax = sns.histplot(Maryland_Earnings['Earnings'], color=\"b\", kde=True)"
   ]
  },
  {
   "cell_type": "code",
   "execution_count": 94,
   "id": "36c3220f",
   "metadata": {},
   "outputs": [
    {
     "data": {
      "text/plain": [
       "([<matplotlib.axis.XTick at 0x1a857031eb0>,\n",
       "  <matplotlib.axis.XTick at 0x1a857031e80>,\n",
       "  <matplotlib.axis.XTick at 0x1a83974fa00>,\n",
       "  <matplotlib.axis.XTick at 0x1a839b30fd0>,\n",
       "  <matplotlib.axis.XTick at 0x1a839b37520>,\n",
       "  <matplotlib.axis.XTick at 0x1a839b37a30>,\n",
       "  <matplotlib.axis.XTick at 0x1a839b37f40>,\n",
       "  <matplotlib.axis.XTick at 0x1a839b3d490>,\n",
       "  <matplotlib.axis.XTick at 0x1a839b3d9a0>,\n",
       "  <matplotlib.axis.XTick at 0x1a839b3dee0>,\n",
       "  <matplotlib.axis.XTick at 0x1a855650430>,\n",
       "  <matplotlib.axis.XTick at 0x1a839b3d550>,\n",
       "  <matplotlib.axis.XTick at 0x1a839b375e0>,\n",
       "  <matplotlib.axis.XTick at 0x1a855650040>,\n",
       "  <matplotlib.axis.XTick at 0x1a855650af0>],\n",
       " [Text(0, 0, ''),\n",
       "  Text(0, 0, ''),\n",
       "  Text(0, 0, ''),\n",
       "  Text(0, 0, ''),\n",
       "  Text(0, 0, ''),\n",
       "  Text(0, 0, ''),\n",
       "  Text(0, 0, ''),\n",
       "  Text(0, 0, ''),\n",
       "  Text(0, 0, ''),\n",
       "  Text(0, 0, ''),\n",
       "  Text(0, 0, ''),\n",
       "  Text(0, 0, ''),\n",
       "  Text(0, 0, ''),\n",
       "  Text(0, 0, ''),\n",
       "  Text(0, 0, '')])"
      ]
     },
     "execution_count": 94,
     "metadata": {},
     "output_type": "execute_result"
    },
    {
     "data": {
      "image/png": "[encoded data removed]",
      "text/plain": [
       "<Figure size 432x288 with 1 Axes>"
      ]
     },
     "metadata": {
      "needs_background": "light"
     },
     "output_type": "display_data"
    }
   ],
   "source": [
    "Maryland_Earnings = Maryland_Earnings.sort_values(by = 'Earnings')\n",
    "\n",
    "plt.hist(Maryland_Earnings['Earnings'],edgecolor = \"red\", bins=range(0,150000,10000))\n",
    "plt.xticks(range(0,150000,10000), rotation=90)"
   ]
  },
  {
   "cell_type": "code",
   "execution_count": 95,
   "id": "ca2919a5",
   "metadata": {},
   "outputs": [
    {
     "data": {
      "text/plain": [
       "0.427773396424816"
      ]
     },
     "execution_count": 95,
     "metadata": {},
     "output_type": "execute_result"
    }
   ],
   "source": [
    "Maryland_Earnings.loc[(Maryland_Earnings['Earnings']>Maryland_Earnings['Earnings'].mean())].shape[0]/len(Maryland_Earnings)"
   ]
  },
  {
   "cell_type": "code",
   "execution_count": 96,
   "id": "a6b69254",
   "metadata": {},
   "outputs": [
    {
     "data": {
      "text/html": [
       "<div>\n",
       "<style scoped>\n",
       "    .dataframe tbody tr th:only-of-type {\n",
       "        vertical-align: middle;\n",
       "    }\n",
       "\n",
       "    .dataframe tbody tr th {\n",
       "        vertical-align: top;\n",
       "    }\n",
       "\n",
       "    .dataframe thead th {\n",
       "        text-align: right;\n",
       "    }\n",
       "</style>\n",
       "<table border=\"1\" class=\"dataframe\">\n",
       "  <thead>\n",
       "    <tr style=\"text-align: right;\">\n",
       "      <th></th>\n",
       "      <th>Earnings</th>\n",
       "      <th>Name</th>\n",
       "      <th>Year</th>\n",
       "    </tr>\n",
       "  </thead>\n",
       "  <tbody>\n",
       "    <tr>\n",
       "      <th>3835</th>\n",
       "      <td>186773.0</td>\n",
       "      <td>Block Group 4, Census Tract 2712, Baltimore ci...</td>\n",
       "      <td>2018</td>\n",
       "    </tr>\n",
       "  </tbody>\n",
       "</table>\n",
       "</div>"
      ],
      "text/plain": [
       "      Earnings                                               Name  Year\n",
       "3835  186773.0  Block Group 4, Census Tract 2712, Baltimore ci...  2018"
      ]
     },
     "execution_count": 96,
     "metadata": {},
     "output_type": "execute_result"
    }
   ],
   "source": [
    "Maryland_Earnings.loc[(Maryland_Earnings['Earnings']==Maryland_Earnings['Earnings'].max()),('Earnings','Name','Year')]"
   ]
  },
  {
   "cell_type": "code",
   "execution_count": 97,
   "id": "48ee3e5d",
   "metadata": {},
   "outputs": [
    {
     "data": {
      "text/plain": [
       "<matplotlib.lines.Line2D at 0x1a848c05a00>"
      ]
     },
     "execution_count": 97,
     "metadata": {},
     "output_type": "execute_result"
    },
    {
     "data": {
      "image/png": "[encoded data removed]",
      "text/plain": [
       "<Figure size 1152x288 with 1 Axes>"
      ]
     },
     "metadata": {
      "needs_background": "light"
     },
     "output_type": "display_data"
    }
   ],
   "source": [
    "ax = Maryland_Earnings['Earnings'].plot(kind='density',figsize = (16,4))\n",
    "ax.axvline(Maryland_Earnings['Earnings'].mean(),color='red')\n",
    "ax.axvline(Maryland_Earnings['Earnings'].median(),color='green')\n",
    "ax.axvline(Maryland_Earnings['Earnings'].min(),color='blue')\n",
    "ax.axvline(Maryland_Earnings['Earnings'].max(),color='purple')"
   ]
  },
  {
   "cell_type": "markdown",
   "id": "98e047ff",
   "metadata": {},
   "source": [
    "## Maryland Poverty Data"
   ]
  },
  {
   "cell_type": "code",
   "execution_count": 98,
   "id": "6ecbfd62",
   "metadata": {},
   "outputs": [
    {
     "data": {
      "text/plain": [
       "count    31259.000000\n",
       "mean       909.165872\n",
       "std        497.273967\n",
       "min          3.000000\n",
       "25%        550.000000\n",
       "50%        813.000000\n",
       "75%       1180.000000\n",
       "max       5621.000000\n",
       "Name: Poverty, dtype: float64"
      ]
     },
     "execution_count": 98,
     "metadata": {},
     "output_type": "execute_result"
    }
   ],
   "source": [
    "Maryland_Poverty['Poverty'] = Maryland_Poverty['Poverty'].astype(int).astype(float)\n",
    "Maryland_Poverty = Maryland_Poverty.loc[(Maryland_Poverty['Poverty']>0)]\n",
    "Maryland_Poverty = Maryland_Poverty.sort_values(by = 'Poverty')\n",
    "Maryland_Poverty['Poverty'].describe()"
   ]
  },
  {
   "cell_type": "code",
   "execution_count": 99,
   "id": "679593dd",
   "metadata": {},
   "outputs": [
    {
     "data": {
      "text/plain": [
       "0.42064685370613264"
      ]
     },
     "execution_count": 99,
     "metadata": {},
     "output_type": "execute_result"
    }
   ],
   "source": [
    "Maryland_Poverty.loc[(Maryland_Poverty['Poverty']>Maryland_Poverty['Poverty'].mean())].shape[0]/len(Maryland_Poverty)"
   ]
  },
  {
   "cell_type": "code",
   "execution_count": 100,
   "id": "86b4d7b3",
   "metadata": {},
   "outputs": [
    {
     "data": {
      "text/html": [
       "<div>\n",
       "<style scoped>\n",
       "    .dataframe tbody tr th:only-of-type {\n",
       "        vertical-align: middle;\n",
       "    }\n",
       "\n",
       "    .dataframe tbody tr th {\n",
       "        vertical-align: top;\n",
       "    }\n",
       "\n",
       "    .dataframe thead th {\n",
       "        text-align: right;\n",
       "    }\n",
       "</style>\n",
       "<table border=\"1\" class=\"dataframe\">\n",
       "  <thead>\n",
       "    <tr style=\"text-align: right;\">\n",
       "      <th></th>\n",
       "      <th>Poverty</th>\n",
       "      <th>Name</th>\n",
       "      <th>Year</th>\n",
       "    </tr>\n",
       "  </thead>\n",
       "  <tbody>\n",
       "    <tr>\n",
       "      <th>152</th>\n",
       "      <td>5621.0</td>\n",
       "      <td>Block Group 3, Census Tract 7301, Anne Arundel...</td>\n",
       "      <td>2019</td>\n",
       "    </tr>\n",
       "  </tbody>\n",
       "</table>\n",
       "</div>"
      ],
      "text/plain": [
       "     Poverty                                               Name  Year\n",
       "152   5621.0  Block Group 3, Census Tract 7301, Anne Arundel...  2019"
      ]
     },
     "execution_count": 100,
     "metadata": {},
     "output_type": "execute_result"
    }
   ],
   "source": [
    "Maryland_Poverty.loc[(Maryland_Poverty['Poverty']==Maryland_Poverty['Poverty'].max()),('Poverty','Name','Year')]"
   ]
  },
  {
   "cell_type": "code",
   "execution_count": 101,
   "id": "4217b079",
   "metadata": {},
   "outputs": [
    {
     "data": {
      "image/png": "[encoded data removed]",
      "text/plain": [
       "<Figure size 432x288 with 1 Axes>"
      ]
     },
     "metadata": {
      "needs_background": "light"
     },
     "output_type": "display_data"
    }
   ],
   "source": [
    "#Show graph with density and histogram distributions\n",
    "sns.set_color_codes()\n",
    "ax = sns.histplot(Maryland_Poverty['Poverty'], color=\"b\", kde=True)"
   ]
  },
  {
   "cell_type": "code",
   "execution_count": 102,
   "id": "727b17f7",
   "metadata": {},
   "outputs": [
    {
     "data": {
      "text/plain": [
       "([<matplotlib.axis.XTick at 0x1a84f2e7640>,\n",
       "  <matplotlib.axis.XTick at 0x1a84f2e7610>,\n",
       "  <matplotlib.axis.XTick at 0x1a853e80c70>,\n",
       "  <matplotlib.axis.XTick at 0x1a848dab220>,\n",
       "  <matplotlib.axis.XTick at 0x1a848dab730>,\n",
       "  <matplotlib.axis.XTick at 0x1a848dabc40>,\n",
       "  <matplotlib.axis.XTick at 0x1a848db8190>,\n",
       "  <matplotlib.axis.XTick at 0x1a848dab2b0>,\n",
       "  <matplotlib.axis.XTick at 0x1a848db84f0>,\n",
       "  <matplotlib.axis.XTick at 0x1a848db8a00>,\n",
       "  <matplotlib.axis.XTick at 0x1a848db8f10>,\n",
       "  <matplotlib.axis.XTick at 0x1a84cf2d460>,\n",
       "  <matplotlib.axis.XTick at 0x1a84cf2d970>,\n",
       "  <matplotlib.axis.XTick at 0x1a84cf2de80>,\n",
       "  <matplotlib.axis.XTick at 0x1a84cf213d0>,\n",
       "  <matplotlib.axis.XTick at 0x1a84cf2da00>],\n",
       " [Text(0, 0, ''),\n",
       "  Text(0, 0, ''),\n",
       "  Text(0, 0, ''),\n",
       "  Text(0, 0, ''),\n",
       "  Text(0, 0, ''),\n",
       "  Text(0, 0, ''),\n",
       "  Text(0, 0, ''),\n",
       "  Text(0, 0, ''),\n",
       "  Text(0, 0, ''),\n",
       "  Text(0, 0, ''),\n",
       "  Text(0, 0, ''),\n",
       "  Text(0, 0, ''),\n",
       "  Text(0, 0, ''),\n",
       "  Text(0, 0, ''),\n",
       "  Text(0, 0, ''),\n",
       "  Text(0, 0, '')])"
      ]
     },
     "execution_count": 102,
     "metadata": {},
     "output_type": "execute_result"
    },
    {
     "data": {
      "image/png": "[encoded data removed]",
      "text/plain": [
       "<Figure size 432x288 with 1 Axes>"
      ]
     },
     "metadata": {
      "needs_background": "light"
     },
     "output_type": "display_data"
    }
   ],
   "source": [
    "plt.hist(Maryland_Poverty['Poverty'],edgecolor = \"red\", bins=range(0,4000,250))\n",
    "plt.xticks(range(0,4000,250), rotation=90)"
   ]
  },
  {
   "cell_type": "code",
   "execution_count": 103,
   "id": "f6142522",
   "metadata": {},
   "outputs": [
    {
     "data": {
      "text/plain": [
       "<matplotlib.lines.Line2D at 0x1a855651250>"
      ]
     },
     "execution_count": 103,
     "metadata": {},
     "output_type": "execute_result"
    },
    {
     "data": {
      "image/png": "[encoded data removed]",
      "text/plain": [
       "<Figure size 1152x288 with 1 Axes>"
      ]
     },
     "metadata": {
      "needs_background": "light"
     },
     "output_type": "display_data"
    }
   ],
   "source": [
    "ax = Maryland_Poverty['Poverty'].plot(kind='density',figsize = (16,4))\n",
    "ax.axvline(Maryland_Poverty['Poverty'].mean(),color='red')\n",
    "ax.axvline(Maryland_Poverty['Poverty'].median(),color='green')\n",
    "ax.axvline(Maryland_Poverty['Poverty'].min(),color='blue')\n",
    "ax.axvline(Maryland_Poverty['Poverty'].max(),color='purple')"
   ]
  },
  {
   "cell_type": "markdown",
   "id": "a9df9d60",
   "metadata": {},
   "source": [
    "## Maryland Employment Data"
   ]
  },
  {
   "cell_type": "code",
   "execution_count": 104,
   "id": "8045a107",
   "metadata": {},
   "outputs": [
    {
     "data": {
      "text/plain": [
       "0.4231174050330112"
      ]
     },
     "execution_count": 104,
     "metadata": {},
     "output_type": "execute_result"
    }
   ],
   "source": [
    "Maryland_Employment.loc[(Maryland_Employment['Employment']>Maryland_Employment['Employment'].mean())].shape[0]/len(Maryland_Employment)"
   ]
  },
  {
   "cell_type": "code",
   "execution_count": 105,
   "id": "59a2a349",
   "metadata": {},
   "outputs": [
    {
     "data": {
      "text/html": [
       "<div>\n",
       "<style scoped>\n",
       "    .dataframe tbody tr th:only-of-type {\n",
       "        vertical-align: middle;\n",
       "    }\n",
       "\n",
       "    .dataframe tbody tr th {\n",
       "        vertical-align: top;\n",
       "    }\n",
       "\n",
       "    .dataframe thead th {\n",
       "        text-align: right;\n",
       "    }\n",
       "</style>\n",
       "<table border=\"1\" class=\"dataframe\">\n",
       "  <thead>\n",
       "    <tr style=\"text-align: right;\">\n",
       "      <th></th>\n",
       "      <th>Employment</th>\n",
       "      <th>Name</th>\n",
       "      <th>Year</th>\n",
       "    </tr>\n",
       "  </thead>\n",
       "  <tbody>\n",
       "    <tr>\n",
       "      <th>3082</th>\n",
       "      <td>13659.0</td>\n",
       "      <td>Block Group 1, Census Tract 9800, Prince Georg...</td>\n",
       "      <td>2020</td>\n",
       "    </tr>\n",
       "  </tbody>\n",
       "</table>\n",
       "</div>"
      ],
      "text/plain": [
       "      Employment                                               Name  Year\n",
       "3082     13659.0  Block Group 1, Census Tract 9800, Prince Georg...  2020"
      ]
     },
     "execution_count": 105,
     "metadata": {},
     "output_type": "execute_result"
    }
   ],
   "source": [
    "Maryland_Employment.loc[(Maryland_Employment['Employment']==Maryland_Employment['Employment'].max()),('Employment','Name','Year')]"
   ]
  },
  {
   "cell_type": "code",
   "execution_count": 106,
   "id": "c82513b1",
   "metadata": {},
   "outputs": [
    {
     "data": {
      "text/plain": [
       "([<matplotlib.axis.XTick at 0x1a84f3eb8e0>,\n",
       "  <matplotlib.axis.XTick at 0x1a84f3eb880>,\n",
       "  <matplotlib.axis.XTick at 0x1a84b9b2b50>,\n",
       "  <matplotlib.axis.XTick at 0x1a83974f4f0>,\n",
       "  <matplotlib.axis.XTick at 0x1a84c7f8c40>,\n",
       "  <matplotlib.axis.XTick at 0x1a84c7f8df0>,\n",
       "  <matplotlib.axis.XTick at 0x1a84c7fab80>,\n",
       "  <matplotlib.axis.XTick at 0x1a84c7fa370>,\n",
       "  <matplotlib.axis.XTick at 0x1a84c7fa550>,\n",
       "  <matplotlib.axis.XTick at 0x1a853e3e280>],\n",
       " [Text(0, 0, ''),\n",
       "  Text(0, 0, ''),\n",
       "  Text(0, 0, ''),\n",
       "  Text(0, 0, ''),\n",
       "  Text(0, 0, ''),\n",
       "  Text(0, 0, ''),\n",
       "  Text(0, 0, ''),\n",
       "  Text(0, 0, ''),\n",
       "  Text(0, 0, ''),\n",
       "  Text(0, 0, '')])"
      ]
     },
     "execution_count": 106,
     "metadata": {},
     "output_type": "execute_result"
    },
    {
     "data": {
      "image/png": "[encoded data removed]",
      "text/plain": [
       "<Figure size 432x288 with 1 Axes>"
      ]
     },
     "metadata": {
      "needs_background": "light"
     },
     "output_type": "display_data"
    }
   ],
   "source": [
    "plt.hist(Maryland_Employment['Employment'],edgecolor = \"red\", bins=range(0,5000,500))\n",
    "plt.xticks(range(0,5000,500), rotation=90)"
   ]
  },
  {
   "cell_type": "code",
   "execution_count": 107,
   "id": "d474f38f",
   "metadata": {},
   "outputs": [
    {
     "data": {
      "text/plain": [
       "<matplotlib.lines.Line2D at 0x1a854111700>"
      ]
     },
     "execution_count": 107,
     "metadata": {},
     "output_type": "execute_result"
    },
    {
     "data": {
      "image/png": "[encoded data removed]",
      "text/plain": [
       "<Figure size 1152x288 with 1 Axes>"
      ]
     },
     "metadata": {
      "needs_background": "light"
     },
     "output_type": "display_data"
    }
   ],
   "source": [
    "ax = Maryland_Employment['Employment'].plot(kind='density',figsize = (16,4))\n",
    "ax.axvline(Maryland_Employment['Employment'].mean(),color='red')\n",
    "ax.axvline(Maryland_Employment['Employment'].median(),color='green')\n",
    "ax.axvline(Maryland_Employment['Employment'].min(),color='blue')\n",
    "ax.axvline(Maryland_Employment['Employment'].max(),color='purple')"
   ]
  },
  {
   "cell_type": "markdown",
   "id": "08de39a4",
   "metadata": {},
   "source": [
    "## Maryland Rooms Data"
   ]
  },
  {
   "cell_type": "code",
   "execution_count": 108,
   "id": "d7b1b838",
   "metadata": {},
   "outputs": [
    {
     "ename": "ZeroDivisionError",
     "evalue": "division by zero",
     "output_type": "error",
     "traceback": [
      "\u001b[1;31m---------------------------------------------------------------------------\u001b[0m",
      "\u001b[1;31mZeroDivisionError\u001b[0m                         Traceback (most recent call last)",
      "\u001b[1;32m<ipython-input-108-a2b4cf191dc3>\u001b[0m in \u001b[0;36m<module>\u001b[1;34m\u001b[0m\n\u001b[1;32m----> 1\u001b[1;33m \u001b[0mMaryland_Rooms\u001b[0m\u001b[1;33m.\u001b[0m\u001b[0mloc\u001b[0m\u001b[1;33m[\u001b[0m\u001b[1;33m(\u001b[0m\u001b[0mMaryland_Rooms\u001b[0m\u001b[1;33m[\u001b[0m\u001b[1;34m'Rooms'\u001b[0m\u001b[1;33m]\u001b[0m\u001b[1;33m>\u001b[0m\u001b[0mMaryland_Rooms\u001b[0m\u001b[1;33m[\u001b[0m\u001b[1;34m'Rooms'\u001b[0m\u001b[1;33m]\u001b[0m\u001b[1;33m.\u001b[0m\u001b[0mmean\u001b[0m\u001b[1;33m(\u001b[0m\u001b[1;33m)\u001b[0m\u001b[1;33m)\u001b[0m\u001b[1;33m]\u001b[0m\u001b[1;33m.\u001b[0m\u001b[0mshape\u001b[0m\u001b[1;33m[\u001b[0m\u001b[1;36m0\u001b[0m\u001b[1;33m]\u001b[0m\u001b[1;33m/\u001b[0m\u001b[0mlen\u001b[0m\u001b[1;33m(\u001b[0m\u001b[0mMaryland_Rooms\u001b[0m\u001b[1;33m)\u001b[0m\u001b[1;33m\u001b[0m\u001b[1;33m\u001b[0m\u001b[0m\n\u001b[0m",
      "\u001b[1;31mZeroDivisionError\u001b[0m: division by zero"
     ]
    }
   ],
   "source": [
    "Maryland_Rooms.loc[(Maryland_Rooms['Rooms']>Maryland_Rooms['Rooms'].mean())].shape[0]/len(Maryland_Rooms)"
   ]
  },
  {
   "cell_type": "code",
   "execution_count": null,
   "id": "c289c6b0",
   "metadata": {},
   "outputs": [],
   "source": [
    "Maryland_Rooms.loc[(Maryland_Rooms['Rooms']==Maryland_Rooms['Rooms'].max()),('Rooms','Name','Year')]"
   ]
  },
  {
   "cell_type": "code",
   "execution_count": null,
   "id": "b14ae16e",
   "metadata": {},
   "outputs": [],
   "source": [
    "#Show graph with density and histogram distributions\n",
    "sns.set_color_codes()\n",
    "ax = sns.histplot(Maryland_Rooms['Rooms'], color=\"b\", kde=True)"
   ]
  },
  {
   "cell_type": "code",
   "execution_count": null,
   "id": "ea7693a3",
   "metadata": {},
   "outputs": [],
   "source": [
    "plt.hist(Maryland_Rooms['Rooms'],edgecolor = \"red\", bins=range(0,9,1))\n",
    "plt.xticks(range(0,9,1), rotation=90)"
   ]
  },
  {
   "cell_type": "code",
   "execution_count": null,
   "id": "5edba898",
   "metadata": {},
   "outputs": [],
   "source": [
    "ax = Maryland_Rooms['Rooms'].plot(kind='density',figsize = (16,4))\n",
    "ax.axvline(Maryland_Rooms['Rooms'].mean(),color='red')\n",
    "ax.axvline(Maryland_Rooms['Rooms'].median(),color='green')\n",
    "ax.axvline(Maryland_Rooms['Rooms'].min(),color='blue')\n",
    "ax.axvline(Maryland_Rooms['Rooms'].max(),color='purple')"
   ]
  },
  {
   "cell_type": "markdown",
   "id": "9b64961b",
   "metadata": {},
   "source": [
    "## Maryland Children Data"
   ]
  },
  {
   "cell_type": "code",
   "execution_count": null,
   "id": "31e579f5",
   "metadata": {},
   "outputs": [],
   "source": [
    "Maryland_Children.loc[(Maryland_Children['Children']>Maryland_Children['Children'].mean())].shape[0]/len(Maryland_Children)"
   ]
  },
  {
   "cell_type": "code",
   "execution_count": null,
   "id": "2fc51330",
   "metadata": {},
   "outputs": [],
   "source": [
    "Maryland_Children.loc[(Maryland_Children['Children']==Maryland_Children['Children'].max()),('Children','Name','Year')]"
   ]
  },
  {
   "cell_type": "code",
   "execution_count": null,
   "id": "70887626",
   "metadata": {},
   "outputs": [],
   "source": [
    "#Show graph with density and histogram distributions\n",
    "sns.set_color_codes()\n",
    "ax = sns.histplot(Maryland_Children['Children'], color=\"b\", kde=True)"
   ]
  },
  {
   "cell_type": "code",
   "execution_count": null,
   "id": "b5f07ce6",
   "metadata": {},
   "outputs": [],
   "source": [
    "plt.hist(Maryland_Children['Children'],edgecolor = \"red\", bins=range(0,1500,100))\n",
    "plt.xticks(range(0,1500,100), rotation=90)"
   ]
  },
  {
   "cell_type": "code",
   "execution_count": null,
   "id": "0e17d30d",
   "metadata": {},
   "outputs": [],
   "source": [
    "ax = Maryland_Children['Children'].plot(kind='density',figsize = (16,4))\n",
    "ax.axvline(Maryland_Children['Children'].mean(),color='red')\n",
    "ax.axvline(Maryland_Children['Children'].median(),color='green')\n",
    "ax.axvline(Maryland_Children['Children'].min(),color='blue')\n",
    "ax.axvline(Maryland_Children['Children'].max(),color='purple')"
   ]
  },
  {
   "cell_type": "markdown",
   "id": "b79b9e7f",
   "metadata": {},
   "source": [
    "## Maryland HouseType Data"
   ]
  },
  {
   "cell_type": "code",
   "execution_count": null,
   "id": "d8a7550e",
   "metadata": {},
   "outputs": [],
   "source": [
    "Maryland_HouseType.loc[(Maryland_HouseType['HouseType']>Maryland_HouseType['HouseType'].mean())].shape[0]/len(Maryland_HouseType)"
   ]
  },
  {
   "cell_type": "code",
   "execution_count": null,
   "id": "85b3e036",
   "metadata": {},
   "outputs": [],
   "source": [
    "Maryland_HouseType.loc[(Maryland_HouseType['HouseType']==Maryland_HouseType['HouseType'].max()),('HouseType','Name','Year')]"
   ]
  },
  {
   "cell_type": "code",
   "execution_count": null,
   "id": "5b48d7b7",
   "metadata": {},
   "outputs": [],
   "source": [
    "#Show graph with density and histogram distributions\n",
    "sns.set_color_codes()\n",
    "ax = sns.histplot(Maryland_HouseType['HouseType'], color=\"b\", kde=True)"
   ]
  },
  {
   "cell_type": "code",
   "execution_count": null,
   "id": "7b309af2",
   "metadata": {},
   "outputs": [],
   "source": [
    "plt.hist(Maryland_HouseType['HouseType'],edgecolor = \"red\", bins=range(0,2000,100))\n",
    "plt.xticks(range(0,2000,100), rotation=90)"
   ]
  },
  {
   "cell_type": "code",
   "execution_count": null,
   "id": "e862ac0c",
   "metadata": {},
   "outputs": [],
   "source": [
    "ax = Maryland_HouseType['HouseType'].plot(kind='density',figsize = (16,4))\n",
    "ax.axvline(Maryland_HouseType['HouseType'].mean(),color='red')\n",
    "ax.axvline(Maryland_HouseType['HouseType'].median(),color='green')\n",
    "ax.axvline(Maryland_HouseType['HouseType'].min(),color='blue')\n",
    "ax.axvline(Maryland_HouseType['HouseType'].max(),color='purple')"
   ]
  },
  {
   "cell_type": "markdown",
   "id": "78a1022a",
   "metadata": {},
   "source": [
    "## Maryland Age Data"
   ]
  },
  {
   "cell_type": "code",
   "execution_count": null,
   "id": "7f3c8d49",
   "metadata": {},
   "outputs": [],
   "source": [
    "Maryland_Age.loc[(Maryland_Age['Age']>Maryland_Age['Age'].mean())].shape[0]/len(Maryland_Age)"
   ]
  },
  {
   "cell_type": "code",
   "execution_count": null,
   "id": "061b4c75",
   "metadata": {},
   "outputs": [],
   "source": [
    "Maryland_Age.loc[(Maryland_Age['Age']==Maryland_Age['Age'].max()),('Age','Name','Year')]"
   ]
  },
  {
   "cell_type": "code",
   "execution_count": null,
   "id": "163e8c56",
   "metadata": {},
   "outputs": [],
   "source": [
    "#Show graph with density and histogram distributions\n",
    "sns.set_color_codes()\n",
    "ax = sns.histplot(Maryland_Age['Age'], color=\"b\", kde=True)"
   ]
  },
  {
   "cell_type": "code",
   "execution_count": null,
   "id": "fbe007d4",
   "metadata": {},
   "outputs": [],
   "source": [
    "plt.hist(Maryland_Age['Age'],edgecolor = \"red\", bins=range(0,90,10))\n",
    "plt.xticks(range(0,90,10), rotation=90)"
   ]
  },
  {
   "cell_type": "code",
   "execution_count": null,
   "id": "03cd2fe6",
   "metadata": {},
   "outputs": [],
   "source": [
    "ax = Maryland_Age['Age'].plot(kind='density',figsize = (16,4))\n",
    "ax.axvline(Maryland_Age['Age'].mean(),color='red')\n",
    "ax.axvline(Maryland_Age['Age'].median(),color='green')\n",
    "ax.axvline(Maryland_Age['Age'].min(),color='blue')\n",
    "ax.axvline(Maryland_Age['Age'].max(),color='purple')"
   ]
  },
  {
   "cell_type": "markdown",
   "id": "6bb5273e",
   "metadata": {},
   "source": [
    "## Maryland Transportation Data"
   ]
  },
  {
   "cell_type": "code",
   "execution_count": null,
   "id": "aeb01d09",
   "metadata": {},
   "outputs": [],
   "source": [
    "Maryland_Transportation.loc[(Maryland_Transportation['Transportation']>Maryland_Transportation['Transportation'].mean())].shape[0]/len(Maryland_Transportation)"
   ]
  },
  {
   "cell_type": "code",
   "execution_count": null,
   "id": "bc143a0f",
   "metadata": {},
   "outputs": [],
   "source": [
    "Maryland_Transportation.loc[(Maryland_Transportation['Transportation']==Maryland_Transportation['Transportation'].max()),('Transportation','Name','Year')]"
   ]
  },
  {
   "cell_type": "code",
   "execution_count": null,
   "id": "44286aaa",
   "metadata": {},
   "outputs": [],
   "source": [
    "#Show graph with density and histogram distributions\n",
    "sns.set_color_codes()\n",
    "ax = sns.histplot(Maryland_Transportation['Transportation'], color=\"b\", kde=True)"
   ]
  },
  {
   "cell_type": "code",
   "execution_count": null,
   "id": "5ea8b1fe",
   "metadata": {},
   "outputs": [],
   "source": [
    "plt.hist(Maryland_Transportation['Transportation'],edgecolor = \"red\", bins=range(0,1500,100))\n",
    "plt.xticks(range(0,1500,100), rotation=90)"
   ]
  },
  {
   "cell_type": "code",
   "execution_count": null,
   "id": "4be431a8",
   "metadata": {},
   "outputs": [],
   "source": [
    "ax = Maryland_Transportation['Transportation'].plot(kind='density',figsize = (16,4))\n",
    "ax.axvline(Maryland_Transportation['Transportation'].mean(),color='red')\n",
    "ax.axvline(Maryland_Transportation['Transportation'].median(),color='green')\n",
    "ax.axvline(Maryland_Transportation['Transportation'].min(),color='blue')\n",
    "ax.axvline(Maryland_Transportation['Transportation'].max(),color='purple')"
   ]
  },
  {
   "cell_type": "markdown",
   "id": "7a9ccdfc",
   "metadata": {},
   "source": [
    "## Maryland HousePrice Data"
   ]
  },
  {
   "cell_type": "code",
   "execution_count": null,
   "id": "468fc2ed",
   "metadata": {},
   "outputs": [],
   "source": [
    "Maryland_HousePrice.loc[(Maryland_HousePrice['HousePrice']>Maryland_HousePrice['HousePrice'].mean())].shape[0]/len(Maryland_HousePrice)"
   ]
  },
  {
   "cell_type": "code",
   "execution_count": null,
   "id": "9c4fcd14",
   "metadata": {},
   "outputs": [],
   "source": [
    "Maryland_HousePrice.loc[(Maryland_HousePrice['HousePrice']==Maryland_HousePrice['HousePrice'].max()),('HousePrice','Name','Year')]"
   ]
  },
  {
   "cell_type": "code",
   "execution_count": null,
   "id": "64f9b515",
   "metadata": {},
   "outputs": [],
   "source": [
    "#Show graph with density and histogram distributions\n",
    "sns.set_color_codes()\n",
    "ax = sns.histplot(Maryland_HousePrice['HousePrice'], color=\"b\", kde=True)"
   ]
  },
  {
   "cell_type": "code",
   "execution_count": null,
   "id": "9dc1492f",
   "metadata": {},
   "outputs": [],
   "source": [
    "plt.hist(Maryland_HousePrice['HousePrice'],edgecolor = \"red\", bins=range(0,1500000,100000))\n",
    "plt.xticks(range(0,1500000,100000), rotation=90)"
   ]
  },
  {
   "cell_type": "code",
   "execution_count": null,
   "id": "ab1ff6f9",
   "metadata": {},
   "outputs": [],
   "source": [
    "ax = Maryland_HousePrice['HousePrice'].plot(kind='density',figsize = (16,4))\n",
    "ax.axvline(Maryland_HousePrice['HousePrice'].mean(),color='red')\n",
    "ax.axvline(Maryland_HousePrice['HousePrice'].median(),color='green')\n",
    "ax.axvline(Maryland_HousePrice['HousePrice'].min(),color='blue')\n",
    "ax.axvline(Maryland_HousePrice['HousePrice'].max(),color='purple')"
   ]
  },
  {
   "cell_type": "markdown",
   "id": "f29579b2",
   "metadata": {},
   "source": [
    "## Maryland School Data"
   ]
  },
  {
   "cell_type": "code",
   "execution_count": null,
   "id": "e82b9e4f",
   "metadata": {},
   "outputs": [],
   "source": [
    "Maryland_School.loc[(Maryland_School['School']>Maryland_School['School'].mean())].shape[0]/len(Maryland_School)"
   ]
  },
  {
   "cell_type": "code",
   "execution_count": null,
   "id": "6412c5b7",
   "metadata": {},
   "outputs": [],
   "source": [
    "Maryland_School.loc[(Maryland_School['School']==Maryland_School['School'].max()),('School','Name','Year')]"
   ]
  },
  {
   "cell_type": "code",
   "execution_count": null,
   "id": "0052d73b",
   "metadata": {},
   "outputs": [],
   "source": [
    "#Show graph with density and histogram distributions\n",
    "sns.set_color_codes()\n",
    "ax = sns.histplot(Maryland_School['School'], color=\"b\", kde=True)"
   ]
  },
  {
   "cell_type": "code",
   "execution_count": null,
   "id": "7eab9051",
   "metadata": {},
   "outputs": [],
   "source": [
    "plt.hist(Maryland_School['School'],edgecolor = \"red\", bins=range(0,4000,250))\n",
    "plt.xticks(range(0,4000,250), rotation=90)"
   ]
  },
  {
   "cell_type": "code",
   "execution_count": null,
   "id": "acdd5356",
   "metadata": {},
   "outputs": [],
   "source": [
    "ax = Maryland_School['School'].plot(kind='density',figsize = (16,4))\n",
    "ax.axvline(Maryland_School['School'].mean(),color='red')\n",
    "ax.axvline(Maryland_School['School'].median(),color='green')\n",
    "ax.axvline(Maryland_School['School'].min(),color='blue')\n",
    "ax.axvline(Maryland_School['School'].max(),color='purple')"
   ]
  },
  {
   "cell_type": "code",
   "execution_count": null,
   "id": "7fb15281",
   "metadata": {},
   "outputs": [],
   "source": []
  },
  {
   "cell_type": "code",
   "execution_count": null,
   "id": "6153adae",
   "metadata": {},
   "outputs": [],
   "source": []
  },
  {
   "cell_type": "code",
   "execution_count": null,
   "id": "4628a2ba",
   "metadata": {},
   "outputs": [],
   "source": []
  },
  {
   "cell_type": "code",
   "execution_count": null,
   "id": "2725e810",
   "metadata": {},
   "outputs": [],
   "source": []
  },
  {
   "cell_type": "code",
   "execution_count": null,
   "id": "2996260d",
   "metadata": {},
   "outputs": [],
   "source": []
  },
  {
   "cell_type": "code",
   "execution_count": null,
   "id": "780fb188",
   "metadata": {},
   "outputs": [],
   "source": []
  },
  {
   "cell_type": "code",
   "execution_count": null,
   "id": "18e7b472",
   "metadata": {},
   "outputs": [],
   "source": []
  }
 ],
 "metadata": {
  "kernelspec": {
   "display_name": "Python 3",
   "language": "python",
   "name": "python3"
  },
  "language_info": {
   "codemirror_mode": {
    "name": "ipython",
    "version": 3
   },
   "file_extension": ".py",
   "mimetype": "text/x-python",
   "name": "python",
   "nbconvert_exporter": "python",
   "pygments_lexer": "ipython3",
   "version": "3.8.8"
  },
  "toc": {
   "base_numbering": 1,
   "nav_menu": {},
   "number_sections": true,
   "sideBar": true,
   "skip_h1_title": false,
   "title_cell": "Table of Contents",
   "title_sidebar": "Contents",
   "toc_cell": false,
   "toc_position": {
    "height": "calc(100% - 180px)",
    "left": "10px",
    "top": "150px",
    "width": "274.312px"
   },
   "toc_section_display": true,
   "toc_window_display": true
  }
 },
 "nbformat": 4,
 "nbformat_minor": 5
}
